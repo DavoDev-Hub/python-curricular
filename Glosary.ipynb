{
 "cells": [
  {
   "cell_type": "markdown",
   "id": "184825ec-8421-4739-a709-87c110d7e889",
   "metadata": {},
   "source": [
    "# Output"
   ]
  },
  {
   "cell_type": "code",
   "execution_count": 4,
   "id": "a6581a53-7a05-4d34-81f6-b545be3e8b88",
   "metadata": {},
   "outputs": [
    {
     "name": "stdout",
     "output_type": "stream",
     "text": [
      "Hola mundo!\n"
     ]
    }
   ],
   "source": [
    "print(\"Hola mundo!\")"
   ]
  },
  {
   "cell_type": "code",
   "execution_count": 3,
   "id": "770fd90e-9f73-42ab-9551-02c1a5989cf3",
   "metadata": {},
   "outputs": [
    {
     "name": "stdout",
     "output_type": "stream",
     "text": [
      "Hola!\n",
      "Soy un codigo de Python\n"
     ]
    }
   ],
   "source": [
    "print(\"Hola!\")\n",
    "print(\"Soy un codigo de Python\")"
   ]
  },
  {
   "cell_type": "code",
   "execution_count": 2,
   "id": "6ce8397d-2b3b-4588-8afa-abe1def33fea",
   "metadata": {},
   "outputs": [
    {
     "name": "stdout",
     "output_type": "stream",
     "text": [
      "Hola:  Soy un codigo de Python\n"
     ]
    }
   ],
   "source": [
    "print(\"Hola: \", end=\" \")\n",
    "print(\"Soy un codigo de Python\")"
   ]
  },
  {
   "cell_type": "code",
   "execution_count": 11,
   "id": "f776133e-d4fc-4283-bced-5d017a215976",
   "metadata": {},
   "outputs": [
    {
     "name": "stdout",
     "output_type": "stream",
     "text": [
      "Hola Ariel Montserrat de la Cruz Sandoval\n"
     ]
    }
   ],
   "source": [
    "nombre1=\"Ariel\"\n",
    "nombre2=\"Montserrat\"\n",
    "apellido1=\"de la Cruz\"\n",
    "apellido2=\"Sandoval\"\n",
    "\n",
    "nombre_completo = nombre1  + \" \" + nombre2 + \" \" + apellido1 + \" \" + apellido2\n",
    "print(\"Hola\", nombre_completo)"
   ]
  },
  {
   "cell_type": "markdown",
   "id": "d2b168ab-c636-40ef-ae96-13c011565a83",
   "metadata": {},
   "source": [
    "# Input"
   ]
  },
  {
   "cell_type": "code",
   "execution_count": 10,
   "id": "1ecbf935-26e2-454b-9df8-328947bee138",
   "metadata": {},
   "outputs": [
    {
     "name": "stdin",
     "output_type": "stream",
     "text": [
      " Davo\n"
     ]
    },
    {
     "name": "stdout",
     "output_type": "stream",
     "text": [
      "Ingresaste Davo\n"
     ]
    }
   ],
   "source": [
    "entrada = input()\n",
    "print(\"Ingresaste \"+entrada)"
   ]
  },
  {
   "cell_type": "markdown",
   "id": "9e3bbe32-2129-46c2-bc4d-45904a2f2afd",
   "metadata": {},
   "source": [
    "Escribe un código que reciba tu nombre como entrada, y que luego imprima un saludo con tu nombre como salida."
   ]
  },
  {
   "cell_type": "code",
   "execution_count": 13,
   "id": "1bcc579f-4405-4b30-af2a-d0062685f168",
   "metadata": {},
   "outputs": [
    {
     "name": "stdin",
     "output_type": "stream",
     "text": [
      "Por favor ingresa tu nombre:  Juan Pablo\n"
     ]
    },
    {
     "name": "stdout",
     "output_type": "stream",
     "text": [
      "Hola Juan Pablo\n"
     ]
    }
   ],
   "source": [
    "nombre = input(\"Por favor ingresa tu nombre: \")\n",
    "print(\"Hola \" + nombre) "
   ]
  },
  {
   "cell_type": "markdown",
   "id": "3ebf9fe1-a589-4118-8a54-1f6d6dfab0ac",
   "metadata": {},
   "source": [
    "# Variables y tipos de datos"
   ]
  },
  {
   "cell_type": "markdown",
   "id": "0141d485-fd3b-4f5b-8a07-4ba31609ba85",
   "metadata": {},
   "source": [
    "str"
   ]
  },
  {
   "cell_type": "code",
   "execution_count": 14,
   "id": "06fb9bec-7ef8-4389-ad66-9548b1eed208",
   "metadata": {},
   "outputs": [
    {
     "data": {
      "text/plain": [
       "str"
      ]
     },
     "execution_count": 14,
     "metadata": {},
     "output_type": "execute_result"
    }
   ],
   "source": [
    "cadena_de_texto = \"Soy un texto :D\"\n",
    "type(cadena_de_texto)"
   ]
  },
  {
   "cell_type": "code",
   "execution_count": 17,
   "id": "36010d59-bfb4-4860-b70d-bcb6e1fe54a3",
   "metadata": {},
   "outputs": [
    {
     "name": "stdout",
     "output_type": "stream",
     "text": [
      "linea 1\n",
      "linea 2\n",
      "linea 1\n",
      "linea 2 \n",
      "linea 3\n"
     ]
    }
   ],
   "source": [
    "doslineas = \"\"\"linea 1\n",
    "linea 2\"\"\"\n",
    "treslineas = '''linea 1\n",
    "linea 2 \n",
    "linea 3'''\n",
    "print(doslineas)\n",
    "print(treslineas)"
   ]
  },
  {
   "cell_type": "code",
   "execution_count": 18,
   "id": "ed10e482-eede-4025-9507-ba7ada0095ed",
   "metadata": {},
   "outputs": [
    {
     "name": "stdout",
     "output_type": "stream",
     "text": [
      " \n",
      "Cultivo una rosa blanca\n",
      "en junio con en enero\n",
      "para el amigo sincero\n",
      "que me das su mano franca.\n",
      "\n",
      "Y para el cruel que me arranca\n",
      "el corazón con que vivo;\n",
      "cardo ni ortiga cultivo;\n",
      "cultivo la rosa blanca.\n"
     ]
    },
    {
     "data": {
      "text/plain": [
       "str"
      ]
     },
     "execution_count": 18,
     "metadata": {},
     "output_type": "execute_result"
    }
   ],
   "source": [
    "poema = ''' \n",
    "Cultivo una rosa blanca\n",
    "en junio con en enero\n",
    "para el amigo sincero\n",
    "que me das su mano franca.\n",
    "\n",
    "Y para el cruel que me arranca\n",
    "el corazón con que vivo;\n",
    "cardo ni ortiga cultivo;\n",
    "cultivo la rosa blanca.'''\n",
    "print(poema)\n",
    "type(poema)"
   ]
  },
  {
   "cell_type": "markdown",
   "id": "c92e1cc5-9f3f-4e59-bbe7-1c4c6aa99bdb",
   "metadata": {},
   "source": [
    "# String"
   ]
  },
  {
   "cell_type": "markdown",
   "id": "28282bb7-c594-4eb7-b79a-bfad6c536f4a",
   "metadata": {},
   "source": [
    "AL usar la funcion input:"
   ]
  },
  {
   "cell_type": "code",
   "execution_count": 19,
   "id": "fb0573a6-5693-488f-add5-af0e94485ec9",
   "metadata": {},
   "outputs": [
    {
     "name": "stdin",
     "output_type": "stream",
     "text": [
      " 1\n"
     ]
    },
    {
     "data": {
      "text/plain": [
       "'1'"
      ]
     },
     "execution_count": 19,
     "metadata": {},
     "output_type": "execute_result"
    }
   ],
   "source": [
    "input()"
   ]
  },
  {
   "cell_type": "markdown",
   "id": "f5fedc70-7928-4e03-a4ce-ae2ee4a26a8f",
   "metadata": {},
   "source": [
    "Obtenemos un dato de tipo str."
   ]
  },
  {
   "cell_type": "code",
   "execution_count": 20,
   "id": "95bfb605-e70e-4d84-a7d9-2a7fbf83c802",
   "metadata": {},
   "outputs": [
    {
     "name": "stdin",
     "output_type": "stream",
     "text": [
      " 2\n"
     ]
    },
    {
     "data": {
      "text/plain": [
       "str"
      ]
     },
     "execution_count": 20,
     "metadata": {},
     "output_type": "execute_result"
    }
   ],
   "source": [
    "valor_de_entrada = input()\n",
    "type(valor_de_entrada)"
   ]
  },
  {
   "cell_type": "code",
   "execution_count": 1,
   "id": "6a8beade-dcb6-4ca0-9022-a5a039502dc1",
   "metadata": {},
   "outputs": [
    {
     "name": "stdout",
     "output_type": "stream",
     "text": [
      "Somos \"amigas\"\n"
     ]
    }
   ],
   "source": [
    "dialogo = \"Somos \\\"amigas\\\"\"\n",
    "print(dialogo)"
   ]
  },
  {
   "cell_type": "code",
   "execution_count": 2,
   "id": "795851ed-35dc-4491-8bf8-0a93d60e6c08",
   "metadata": {},
   "outputs": [
    {
     "name": "stdout",
     "output_type": "stream",
     "text": [
      "esto es una diagonal invertida \\\n"
     ]
    }
   ],
   "source": [
    "print(\"esto es una diagonal invertida \\\\\")"
   ]
  },
  {
   "cell_type": "code",
   "execution_count": 3,
   "id": "427c9a57-e36a-4c64-88f3-4e265c223cc5",
   "metadata": {},
   "outputs": [
    {
     "name": "stdout",
     "output_type": "stream",
     "text": [
      "Esto es una linea \n",
      "Esto es otra linea\n"
     ]
    }
   ],
   "source": [
    "print(\"Esto es una linea \\nEsto es otra linea\")"
   ]
  },
  {
   "cell_type": "code",
   "execution_count": 5,
   "id": "37f70817-f8f8-4756-a1a5-e05345a6b795",
   "metadata": {},
   "outputs": [
    {
     "name": "stdout",
     "output_type": "stream",
     "text": [
      "Esto es una linea normal \n",
      "\tEsto es una linea con tabulador\n"
     ]
    }
   ],
   "source": [
    "print(\"Esto es una linea normal \\n\\tEsto es una linea con tabulador\")"
   ]
  },
  {
   "cell_type": "code",
   "execution_count": 6,
   "id": "cc7b7bf3-ba81-430b-943a-9d43ff1bd877",
   "metadata": {},
   "outputs": [
    {
     "name": "stdout",
     "output_type": "stream",
     "text": [
      "C1\tC2\tC3\tC4\n",
      "10\t1.3\t5.6\t8\n"
     ]
    }
   ],
   "source": [
    "print(\"C1\\tC2\\tC3\\tC4\")\n",
    "print(\"10\\t1.3\\t5.6\\t8\")"
   ]
  },
  {
   "cell_type": "code",
   "execution_count": 7,
   "id": "964d192a-5cfb-472b-b136-03feeedc70e1",
   "metadata": {},
   "outputs": [
    {
     "name": "stdout",
     "output_type": "stream",
     "text": [
      "AEIOBCD\n"
     ]
    }
   ],
   "source": [
    "print(\"AEIOU\\bBCD\")"
   ]
  },
  {
   "cell_type": "code",
   "execution_count": 8,
   "id": "dbb3259a-0ed5-4a5a-8c78-a60999b2959d",
   "metadata": {},
   "outputs": [
    {
     "name": "stdout",
     "output_type": "stream",
     "text": [
      "Adios\n"
     ]
    }
   ],
   "source": [
    "print(\"Hola\\rAdios\")"
   ]
  },
  {
   "cell_type": "code",
   "execution_count": 9,
   "id": "e345a1ea-70c6-475e-ac8c-bfe705411193",
   "metadata": {},
   "outputs": [
    {
     "name": "stdout",
     "output_type": "stream",
     "text": [
      "Holas\n"
     ]
    }
   ],
   "source": [
    "print(\"Adios\\rHola\")"
   ]
  },
  {
   "cell_type": "markdown",
   "id": "4b02a28c-4b45-4288-9e12-9008ae4261e4",
   "metadata": {},
   "source": [
    "# Operaciones y métodos"
   ]
  },
  {
   "cell_type": "code",
   "execution_count": 23,
   "id": "987d071d-d875-4f0d-99ce-e57bb9137bf5",
   "metadata": {},
   "outputs": [
    {
     "name": "stdout",
     "output_type": "stream",
     "text": [
      "ela\n"
     ]
    }
   ],
   "source": [
    "nombre = \"Pamela\"\n",
    "print(nombre[3:]) # me vas a escribir hasta la tercer letra hasta el ultimo"
   ]
  },
  {
   "cell_type": "code",
   "execution_count": 25,
   "id": "f311cad5-9a4f-48f3-96ba-84911d315430",
   "metadata": {},
   "outputs": [
    {
     "name": "stdout",
     "output_type": "stream",
     "text": [
      "Buenos días ¿Cómo estás?\n"
     ]
    }
   ],
   "source": [
    "saludo = \"Buenos días\"\n",
    "saludo += \" ¿Cómo estás?\"\n",
    "print(saludo)"
   ]
  },
  {
   "cell_type": "markdown",
   "id": "e9d6ef0d-0f68-4f97-b266-7a389a8fbece",
   "metadata": {},
   "source": [
    "# Lower"
   ]
  },
  {
   "cell_type": "code",
   "execution_count": 26,
   "id": "5a203191-6748-47b6-89e3-9f3309e4cce3",
   "metadata": {},
   "outputs": [
    {
     "name": "stdin",
     "output_type": "stream",
     "text": [
      " JUAN PABLO\n"
     ]
    },
    {
     "name": "stdout",
     "output_type": "stream",
     "text": [
      "juan pablo\n"
     ]
    }
   ],
   "source": [
    "str1 = input()\n",
    "str1 = str1.lower()\n",
    "print(str1)"
   ]
  },
  {
   "cell_type": "markdown",
   "id": "bf065240-3f18-4de9-86a1-ea8bcf2a8c9c",
   "metadata": {},
   "source": [
    "# Upper"
   ]
  },
  {
   "cell_type": "code",
   "execution_count": 29,
   "id": "93a62d03-8445-49c8-8c92-8d3e819641c8",
   "metadata": {},
   "outputs": [
    {
     "name": "stdin",
     "output_type": "stream",
     "text": [
      " for story\n"
     ]
    },
    {
     "name": "stdout",
     "output_type": "stream",
     "text": [
      "FOR STORY\n"
     ]
    }
   ],
   "source": [
    "str2 = input()\n",
    "str2 = str2.upper()\n",
    "print(str2)"
   ]
  },
  {
   "cell_type": "markdown",
   "id": "bcf57cbf-8b10-43b8-ab1d-492b5cbc19b4",
   "metadata": {},
   "source": [
    "# Title"
   ]
  },
  {
   "cell_type": "code",
   "execution_count": null,
   "id": "410869e1-fe6c-4381-b029-ac88b6c29cf3",
   "metadata": {},
   "outputs": [],
   "source": [
    "str3 = input()\n",
    "str3 = str.title()\n",
    "print(str3)"
   ]
  },
  {
   "cell_type": "code",
   "execution_count": 30,
   "id": "bbcb558d-619b-443f-a7e2-949669e73365",
   "metadata": {},
   "outputs": [
    {
     "name": "stdout",
     "output_type": "stream",
     "text": [
      "['tres', 'tristes', 'tigres', 'tragabam', 'trigo', 'en', 'un', 'trigal']\n"
     ]
    }
   ],
   "source": [
    "str4 = \"tres tristes tigres tragabam trigo en un trigal\"\n",
    "lista = str4.split()\n",
    "print(lista)"
   ]
  },
  {
   "cell_type": "code",
   "execution_count": 31,
   "id": "93d1ca4d-f551-4d64-ae50-ce1cd2b924be",
   "metadata": {},
   "outputs": [
    {
     "name": "stdout",
     "output_type": "stream",
     "text": [
      "['', 'res ', 'ris', 'es ', 'igeres ', 'ragaban ', 'rigo en un ', 'rigal']\n"
     ]
    }
   ],
   "source": [
    "str4 = \"tres tristes tigeres tragaban trigo en un trigal\"\n",
    "lista = str4.split(\"t\")\n",
    "print(lista)"
   ]
  },
  {
   "cell_type": "markdown",
   "id": "fa470938-511b-4784-80d4-35f4673f1483",
   "metadata": {},
   "source": [
    "# Split"
   ]
  },
  {
   "cell_type": "code",
   "execution_count": 3,
   "id": "c20cd4f5-c211-4205-8617-9b4b42c17786",
   "metadata": {},
   "outputs": [
    {
     "data": {
      "text/plain": [
       "[' ',\n",
       " 'Cultivo una rosa blanca',\n",
       " 'en junio con en enero',\n",
       " 'para el amigo sincero',\n",
       " 'que me das su mano franca.',\n",
       " '',\n",
       " 'Y para el cruel que me arranca',\n",
       " 'el corazón con que vivo;',\n",
       " 'cardo ni ortiga cultivo;',\n",
       " 'cultivo la rosa blanca.']"
      ]
     },
     "execution_count": 3,
     "metadata": {},
     "output_type": "execute_result"
    }
   ],
   "source": [
    "poema = ''' \n",
    "Cultivo una rosa blanca\n",
    "en junio con en enero\n",
    "para el amigo sincero\n",
    "que me das su mano franca.\n",
    "\n",
    "Y para el cruel que me arranca\n",
    "el corazón con que vivo;\n",
    "cardo ni ortiga cultivo;\n",
    "cultivo la rosa blanca.'''\n",
    "lista = poema.splitlines()\n",
    "lista"
   ]
  },
  {
   "cell_type": "markdown",
   "id": "b22471da-2579-4af0-b130-5e4cc752fc3b",
   "metadata": {},
   "source": [
    "# Join"
   ]
  },
  {
   "cell_type": "code",
   "execution_count": 4,
   "id": "3cbd29f2-3510-41c8-9a55-8c13a75ca1f8",
   "metadata": {},
   "outputs": [
    {
     "name": "stdout",
     "output_type": "stream",
     "text": [
      "Melanie Dannae Macias Pastillas\n"
     ]
    }
   ],
   "source": [
    "nombre = \" \" \n",
    "lista = [\"Melanie\", \"Dannae\", \"Macias\", \"Pastillas\"]\n",
    "nombre = nombre.join(lista)\n",
    "print(nombre)"
   ]
  },
  {
   "cell_type": "markdown",
   "id": "28a468dc-ee1e-49b2-8793-bef28ff6a7bb",
   "metadata": {},
   "source": [
    "# islower"
   ]
  },
  {
   "cell_type": "code",
   "execution_count": 5,
   "id": "9c8fbd5a-48af-40c6-8292-ddd3f40c23b9",
   "metadata": {},
   "outputs": [
    {
     "name": "stdin",
     "output_type": "stream",
     "text": [
      " HOLA\n"
     ]
    },
    {
     "name": "stdout",
     "output_type": "stream",
     "text": [
      "False\n"
     ]
    }
   ],
   "source": [
    "n = input()\n",
    "print(n.islower())"
   ]
  },
  {
   "cell_type": "markdown",
   "id": "2e27aab4-65af-4020-97fc-af2b8ce9a83a",
   "metadata": {},
   "source": [
    "# isupper"
   ]
  },
  {
   "cell_type": "code",
   "execution_count": 7,
   "id": "02dd5b04-62e4-4944-ac91-c4cbcd3bf027",
   "metadata": {},
   "outputs": [
    {
     "name": "stdin",
     "output_type": "stream",
     "text": [
      " HOLA\n"
     ]
    },
    {
     "name": "stdout",
     "output_type": "stream",
     "text": [
      "True\n"
     ]
    }
   ],
   "source": [
    "n = input()\n",
    "print(n.isupper())"
   ]
  },
  {
   "cell_type": "markdown",
   "id": "c888e290-3488-41fc-9caf-fba585e40857",
   "metadata": {},
   "source": [
    "# istitle"
   ]
  },
  {
   "cell_type": "code",
   "execution_count": 11,
   "id": "bda433ce-3b48-4b11-8a26-dbbdf3d8d367",
   "metadata": {},
   "outputs": [
    {
     "name": "stdin",
     "output_type": "stream",
     "text": [
      " Hola\n"
     ]
    },
    {
     "name": "stdout",
     "output_type": "stream",
     "text": [
      "True\n"
     ]
    }
   ],
   "source": [
    "n = input()\n",
    "print(n.istitle())"
   ]
  },
  {
   "cell_type": "markdown",
   "id": "826029df-d79e-4afe-93f4-2e5f875eb3d0",
   "metadata": {},
   "source": [
    "# isalpha"
   ]
  },
  {
   "cell_type": "code",
   "execution_count": 9,
   "id": "2c989732-3f96-4db4-b3f9-e3d7c81da033",
   "metadata": {},
   "outputs": [
    {
     "name": "stdin",
     "output_type": "stream",
     "text": [
      " 12\n"
     ]
    },
    {
     "name": "stdout",
     "output_type": "stream",
     "text": [
      "False\n"
     ]
    }
   ],
   "source": [
    "n = input()\n",
    "print(n.isalpha())"
   ]
  },
  {
   "cell_type": "markdown",
   "id": "0e7623c7-122a-4dda-a80f-dbc95ef16ec4",
   "metadata": {},
   "source": [
    "# isnumeric"
   ]
  },
  {
   "cell_type": "code",
   "execution_count": 12,
   "id": "60e671e2-c538-4528-9fc2-4ccadab074d7",
   "metadata": {},
   "outputs": [
    {
     "name": "stdin",
     "output_type": "stream",
     "text": [
      " 122\n"
     ]
    },
    {
     "name": "stdout",
     "output_type": "stream",
     "text": [
      "True\n"
     ]
    }
   ],
   "source": [
    "n = input()\n",
    "print(n.isnumeric())"
   ]
  },
  {
   "cell_type": "markdown",
   "id": "ebe17c88-b19d-474c-9d0f-211f2703794e",
   "metadata": {},
   "source": [
    "# Replace"
   ]
  },
  {
   "cell_type": "code",
   "execution_count": 13,
   "id": "57b6f5de-39b4-4232-9323-b342a098f123",
   "metadata": {},
   "outputs": [
    {
     "name": "stdout",
     "output_type": "stream",
     "text": [
      " \n",
      "Cultivo un tulipán amarillo\n",
      "en junio con en enero\n",
      "para el amigo sincero\n",
      "que me das su mano franca.\n",
      "\n",
      "Y para el cruel que me arranca\n",
      "el corazón con que vivo;\n",
      "cardo ni ortiga cultivo;\n",
      "cultivo el tulipan amarillo.\n"
     ]
    }
   ],
   "source": [
    "poema = ''' \n",
    "Cultivo una rosa blanca\n",
    "en junio con en enero\n",
    "para el amigo sincero\n",
    "que me das su mano franca.\n",
    "\n",
    "Y para el cruel que me arranca\n",
    "el corazón con que vivo;\n",
    "cardo ni ortiga cultivo;\n",
    "cultivo la rosa blanca.'''\n",
    "nuevo_poema = poema.replace(\"una rosa blanca\", \"un tulipán amarillo\")\n",
    "nuevo_poema = nuevo_poema.replace(\"la rosa blanca\", \"el tulipan amarillo\")\n",
    "print(nuevo_poema)"
   ]
  },
  {
   "cell_type": "code",
   "execution_count": 14,
   "id": "1a535007-7679-4135-a189-f73ebed84974",
   "metadata": {},
   "outputs": [
    {
     "name": "stdout",
     "output_type": "stream",
     "text": [
      " \n",
      "siembro una rosa blanca\n",
      "en junio con en enero\n",
      "para el amigo sincero\n",
      "que me das su mano franca.\n",
      "\n",
      "y para el cruel que me arranca\n",
      "el corazón con que vivo;\n",
      "cardo ni ortiga siembro;\n",
      "siembro la rosa blanca.\n"
     ]
    }
   ],
   "source": [
    "poema = ''' \n",
    "Cultivo una rosa blanca\n",
    "en junio con en enero\n",
    "para el amigo sincero\n",
    "que me das su mano franca.\n",
    "\n",
    "Y para el cruel que me arranca\n",
    "el corazón con que vivo;\n",
    "cardo ni ortiga cultivo;\n",
    "cultivo la rosa blanca.'''\n",
    "\n",
    "nuevo_poema = poema.lower().replace(\"cultivo\",\"siembro\")\n",
    "print(nuevo_poema)"
   ]
  },
  {
   "cell_type": "markdown",
   "id": "aa30fdb3-2cec-46a3-9047-615f451a56b3",
   "metadata": {},
   "source": [
    "# Index"
   ]
  },
  {
   "cell_type": "code",
   "execution_count": 20,
   "id": "5e1cf3c4-98b8-4416-8266-2a721ab50295",
   "metadata": {},
   "outputs": [
    {
     "name": "stdout",
     "output_type": "stream",
     "text": [
      "6\n",
      "puedes\n"
     ]
    }
   ],
   "source": [
    "frase = \"Si lo puedes soñar, lo puedes lograr\"\n",
    "buscar = \"puedes\"\n",
    "x = frase.index(buscar)\n",
    "print(x)\n",
    "print(frase[x:x+len(buscar)])"
   ]
  },
  {
   "cell_type": "markdown",
   "id": "8cb230ce-fd70-4b56-8c35-be5d42738943",
   "metadata": {},
   "source": [
    "# rindex"
   ]
  },
  {
   "cell_type": "code",
   "execution_count": 26,
   "id": "db0f7203-7f06-4394-96b0-012aae85874a",
   "metadata": {},
   "outputs": [
    {
     "name": "stdout",
     "output_type": "stream",
     "text": [
      "23\n",
      "puedes\n"
     ]
    }
   ],
   "source": [
    "frase = \"Si lo puedes soñar, lo puedes lograr\"\n",
    "buscar = \"puedes\"\n",
    "x = frase.rindex(buscar)\n",
    "print(x)\n",
    "print(frase[x:x+len(buscar)])"
   ]
  },
  {
   "cell_type": "markdown",
   "id": "518ac5ba-c5eb-47c3-bb7f-535d69730800",
   "metadata": {},
   "source": [
    "# Find"
   ]
  },
  {
   "cell_type": "code",
   "execution_count": null,
   "id": "d6e20789-b63b-477d-90ee-6dc57db54556",
   "metadata": {},
   "outputs": [],
   "source": [
    "# Es lo mismo que index pero aqui si se regresa un -1 indicando que no existe la palabra"
   ]
  },
  {
   "cell_type": "code",
   "execution_count": 22,
   "id": "190eefe2-638a-4283-8472-e7243918e8ac",
   "metadata": {},
   "outputs": [
    {
     "name": "stdout",
     "output_type": "stream",
     "text": [
      "6\n",
      "puedes\n"
     ]
    }
   ],
   "source": [
    "frase = \"Si lo puedes soñar, lo puedes lograr\"\n",
    "buscar = \"puedes\"\n",
    "x = frase.find(buscar)\n",
    "print(x)\n",
    "print(frase[x:x+len(buscar)])"
   ]
  },
  {
   "cell_type": "code",
   "execution_count": 23,
   "id": "ffea83ac-c923-4dd2-8529-44c58ba21229",
   "metadata": {},
   "outputs": [
    {
     "name": "stdout",
     "output_type": "stream",
     "text": [
      "-1\n",
      "\n"
     ]
    }
   ],
   "source": [
    "frase = \"Si lo puedes soñar, lo puedes lograr\"\n",
    "buscar = \"chocolate\"\n",
    "x = frase.find(buscar)\n",
    "print(x)\n",
    "print(frase[x:x+len(buscar)])"
   ]
  },
  {
   "cell_type": "code",
   "execution_count": 24,
   "id": "4d60b1fc-ede8-4934-8360-ba6d72cbb5ff",
   "metadata": {},
   "outputs": [
    {
     "name": "stdout",
     "output_type": "stream",
     "text": [
      "6\n",
      "puedes\n"
     ]
    }
   ],
   "source": [
    "frase = \"Si lo puedes soñar, lo puedes lograr\"\n",
    "buscar = \"puedes\"\n",
    "x = frase.find(buscar)\n",
    "print(x)\n",
    "print(frase[x:x+len(buscar)])"
   ]
  },
  {
   "cell_type": "markdown",
   "id": "91c83427-7135-4c12-8691-8c8ffc9b34b3",
   "metadata": {},
   "source": [
    "## Format"
   ]
  },
  {
   "cell_type": "code",
   "execution_count": 10,
   "id": "7ff7e225-5263-435a-a998-666a7a539ee6",
   "metadata": {},
   "outputs": [
    {
     "name": "stdout",
     "output_type": "stream",
     "text": [
      " Hoy es 10 de Febrero del año 2024\n",
      " Hoy es 24 de diciembre del año 2023\n",
      " Hoy es chocolate de 4.05 del año True\n"
     ]
    }
   ],
   "source": [
    "fecha = \" Hoy es {} de {} del año {}\"\n",
    "print(fecha.format(10, \"Febrero\", 2024))\n",
    "print(fecha.format(24, \"diciembre\", 2023))\n",
    "print(fecha.format(\"chocolate\", 4.05, True))\n"
   ]
  },
  {
   "cell_type": "code",
   "execution_count": 11,
   "id": "17e784c4-044b-4ccc-817f-66fcafd575cc",
   "metadata": {},
   "outputs": [],
   "source": [
    "fecha = \"Hoy es {dia} de {mes} del año {año}\"\n"
   ]
  },
  {
   "cell_type": "markdown",
   "id": "627bb612-e2ad-41e1-bbb2-c80f2c7a9d1f",
   "metadata": {},
   "source": [
    "# TIPOS DE DATOS"
   ]
  },
  {
   "cell_type": "markdown",
   "id": "195ef036-e2bc-4356-9c1e-5329643f83f8",
   "metadata": {},
   "source": [
    "## int"
   ]
  },
  {
   "cell_type": "code",
   "execution_count": 12,
   "id": "f7a5a849-b4d2-47b7-808f-f76691dfa9a7",
   "metadata": {},
   "outputs": [
    {
     "data": {
      "text/plain": [
       "int"
      ]
     },
     "execution_count": 12,
     "metadata": {},
     "output_type": "execute_result"
    }
   ],
   "source": [
    "numero_entero = 520\n",
    "type(numero_entero)"
   ]
  },
  {
   "cell_type": "markdown",
   "id": "5b09d4b0-e36f-4981-8c73-ea6f059d7254",
   "metadata": {},
   "source": [
    "## Float"
   ]
  },
  {
   "cell_type": "code",
   "execution_count": 13,
   "id": "21a3fe2d-c900-4bfe-a105-6be6e7073970",
   "metadata": {},
   "outputs": [
    {
     "data": {
      "text/plain": [
       "float"
      ]
     },
     "execution_count": 13,
     "metadata": {},
     "output_type": "execute_result"
    }
   ],
   "source": [
    "numero_punto_flotante = 40.003\n",
    "type(numero_punto_flotante)"
   ]
  },
  {
   "cell_type": "markdown",
   "id": "0b4d0209-5e40-4dd7-89e4-0d107c94ce12",
   "metadata": {},
   "source": [
    "## Bool"
   ]
  },
  {
   "cell_type": "code",
   "execution_count": 14,
   "id": "88acfab7-e858-477e-8bf2-18c8cbccbe14",
   "metadata": {},
   "outputs": [
    {
     "data": {
      "text/plain": [
       "bool"
      ]
     },
     "execution_count": 14,
     "metadata": {},
     "output_type": "execute_result"
    }
   ],
   "source": [
    "booleano1 = True\n",
    "type(booleano1)"
   ]
  },
  {
   "cell_type": "code",
   "execution_count": null,
   "id": "d867dae5-6a97-425c-9b95-a7f75d5eb919",
   "metadata": {},
   "outputs": [],
   "source": [
    "booleano2 = False\n",
    "type(booleano2)"
   ]
  },
  {
   "cell_type": "markdown",
   "id": "70825606-af17-4854-ae8b-0554d17af76c",
   "metadata": {},
   "source": [
    "# Casting"
   ]
  },
  {
   "cell_type": "markdown",
   "id": "f3e31ac1-b97a-4540-9dcd-4f8ca3220461",
   "metadata": {},
   "source": [
    "## int -> str"
   ]
  },
  {
   "cell_type": "code",
   "execution_count": 17,
   "id": "616f367b-74ea-48f0-a839-d54416b77d8a",
   "metadata": {},
   "outputs": [
    {
     "name": "stdout",
     "output_type": "stream",
     "text": [
      "540\n",
      "<class 'int'>\n",
      "540\n",
      "<class 'str'>\n"
     ]
    }
   ],
   "source": [
    "int1 = 540\n",
    "print(int1)\n",
    "print(type(int1))\n",
    "str1 = str(int1) # cast\n",
    "print(str1)\n",
    "print(type(str1))\n"
   ]
  },
  {
   "cell_type": "markdown",
   "id": "3f204515-d557-4d12-a66f-41dae2e91232",
   "metadata": {},
   "source": [
    "## float -> str"
   ]
  },
  {
   "cell_type": "code",
   "execution_count": 18,
   "id": "d057c5e5-a942-481e-baaf-4bae28c687d4",
   "metadata": {},
   "outputs": [
    {
     "name": "stdout",
     "output_type": "stream",
     "text": [
      "0.45\n",
      "<class 'float'>\n",
      "0.45\n",
      "<class 'str'>\n"
     ]
    }
   ],
   "source": [
    "float1 = 0.45\n",
    "print(float1)\n",
    "print(type(float1))\n",
    "str1 = str(float1) # cast\n",
    "print(str1)\n",
    "print(type(str1))"
   ]
  },
  {
   "cell_type": "markdown",
   "id": "4d15aede-424b-4d0b-b058-9c1c49c3f611",
   "metadata": {},
   "source": [
    "## Bool -> str"
   ]
  },
  {
   "cell_type": "code",
   "execution_count": 19,
   "id": "4cae3167-f302-4ee5-84d1-ea7e93da2701",
   "metadata": {},
   "outputs": [
    {
     "name": "stdout",
     "output_type": "stream",
     "text": [
      "True\n",
      "<class 'bool'>\n",
      "True\n",
      "<class 'str'>\n"
     ]
    }
   ],
   "source": [
    "bool1 = True\n",
    "print(bool1)\n",
    "print(type(bool1))\n",
    "str1 = str(bool1) #cast\n",
    "print(str1)\n",
    "print(type(str1))"
   ]
  },
  {
   "cell_type": "code",
   "execution_count": 20,
   "id": "9e7a8aec-68d8-4362-a532-b50c0c25ee2d",
   "metadata": {},
   "outputs": [
    {
     "name": "stdout",
     "output_type": "stream",
     "text": [
      "500\n",
      "<class 'str'>\n",
      "500\n",
      "<class 'int'>\n"
     ]
    }
   ],
   "source": [
    "string1 = \"500\"\n",
    "print(string1)\n",
    "print(type(string1))\n",
    "int1 = int(string1)\n",
    "print(int1)\n",
    "print(type(int1))"
   ]
  },
  {
   "cell_type": "code",
   "execution_count": 2,
   "id": "0f3c021d-bbca-4aeb-8a73-c2c9dd8a1f0f",
   "metadata": {},
   "outputs": [
    {
     "name": "stdout",
     "output_type": "stream",
     "text": [
      "50\n",
      "<class 'int'>\n",
      "50\n",
      "<class 'int'>\n"
     ]
    }
   ],
   "source": [
    "# Este codigo va a marcar error\n",
    "string2 = 50\n",
    "print(string2)\n",
    "print(type(string2))\n",
    "int2 = int(string2)\n",
    "print(int2)\n",
    "print(type(int2))"
   ]
  },
  {
   "cell_type": "markdown",
   "id": "256e83f5-729e-42d7-99e1-8d3ea1b0ca74",
   "metadata": {},
   "source": [
    "## float -> int"
   ]
  },
  {
   "cell_type": "code",
   "execution_count": 2,
   "id": "40026bd3-e87f-4f47-8a39-05d1f8f64d88",
   "metadata": {},
   "outputs": [
    {
     "name": "stdout",
     "output_type": "stream",
     "text": [
      "40.303\n",
      "<class 'float'>\n",
      "40\n",
      "<class 'int'>\n"
     ]
    }
   ],
   "source": [
    "float1 = 40.303\n",
    "print(float1)\n",
    "print(type(float1))\n",
    "int1 = int(float1)\n",
    "print(int1)\n",
    "print(type(int1))"
   ]
  },
  {
   "cell_type": "markdown",
   "id": "af0f7561-9fc4-4ecd-be40-25f8fac91a43",
   "metadata": {},
   "source": [
    "## Bool -> int"
   ]
  },
  {
   "cell_type": "code",
   "execution_count": 3,
   "id": "9cffd7cd-49d8-4ba9-af00-b70714d25633",
   "metadata": {},
   "outputs": [
    {
     "name": "stdout",
     "output_type": "stream",
     "text": [
      "True\n",
      "<class 'bool'>\n",
      "1\n",
      "<class 'int'>\n"
     ]
    }
   ],
   "source": [
    "bool1 = True\n",
    "print(bool1)\n",
    "print(type(bool1))\n",
    "int1 = int(bool1)\n",
    "print(int1)\n",
    "print(type(int1))"
   ]
  },
  {
   "cell_type": "code",
   "execution_count": 4,
   "id": "c241570d-80c7-447e-995e-1dbf08e1a252",
   "metadata": {},
   "outputs": [
    {
     "name": "stdout",
     "output_type": "stream",
     "text": [
      "False\n",
      "<class 'bool'>\n",
      "<class 'int'>\n"
     ]
    }
   ],
   "source": [
    "bool2 = False\n",
    "print(bool2)\n",
    "print(type(bool2))\n",
    "int2 = int(bool2)\n",
    "print(type(int2))"
   ]
  },
  {
   "cell_type": "markdown",
   "id": "69ff6f35-631a-408a-b894-3336706e6194",
   "metadata": {},
   "source": [
    "## str -> float"
   ]
  },
  {
   "cell_type": "code",
   "execution_count": 1,
   "id": "5681277a-f3b3-4508-bccb-0240a65fde0a",
   "metadata": {},
   "outputs": [
    {
     "name": "stdout",
     "output_type": "stream",
     "text": [
      "40.05\n",
      "<class 'str'>\n",
      "<class 'float'>\n",
      "<class 'float'>\n"
     ]
    }
   ],
   "source": [
    "str1 = \"40.05\"\n",
    "print(str1)\n",
    "print(type(str1))\n",
    "float1 = float(str1)\n",
    "print(float)\n",
    "print(type(float1))"
   ]
  },
  {
   "cell_type": "code",
   "execution_count": 29,
   "id": "3c01760b-9dfe-4d99-93a9-78c7f757fc3d",
   "metadata": {},
   "outputs": [
    {
     "name": "stdout",
     "output_type": "stream",
     "text": [
      "48\n",
      "<class 'str'>\n"
     ]
    },
    {
     "ename": "TypeError",
     "evalue": "'float' object is not callable",
     "output_type": "error",
     "traceback": [
      "\u001b[31m---------------------------------------------------------------------------\u001b[39m",
      "\u001b[31mTypeError\u001b[39m                                 Traceback (most recent call last)",
      "\u001b[36mCell\u001b[39m\u001b[36m \u001b[39m\u001b[32mIn[29]\u001b[39m\u001b[32m, line 4\u001b[39m\n\u001b[32m      2\u001b[39m \u001b[38;5;28mprint\u001b[39m(str2)\n\u001b[32m      3\u001b[39m \u001b[38;5;28mprint\u001b[39m(\u001b[38;5;28mtype\u001b[39m(str2))\n\u001b[32m----> \u001b[39m\u001b[32m4\u001b[39m float2 = \u001b[38;5;28;43mfloat\u001b[39;49m\u001b[43m(\u001b[49m\u001b[43mstr2\u001b[49m\u001b[43m)\u001b[49m\n\u001b[32m      5\u001b[39m \u001b[38;5;28mprint\u001b[39m(float2)\n\u001b[32m      6\u001b[39m \u001b[38;5;28mprint\u001b[39m(\u001b[38;5;28mtype\u001b[39m(\u001b[38;5;28mfloat\u001b[39m))\n",
      "\u001b[31mTypeError\u001b[39m: 'float' object is not callable"
     ]
    }
   ],
   "source": [
    "str2 = \"48\"\n",
    "print(str2)\n",
    "print(type(str2))\n",
    "float2 = float(str2)\n",
    "print(float2)\n",
    "print(type(float))"
   ]
  },
  {
   "cell_type": "code",
   "execution_count": 7,
   "id": "75f72f29-f7af-4fed-b791-77e81586bbb4",
   "metadata": {},
   "outputs": [
    {
     "name": "stdout",
     "output_type": "stream",
     "text": [
      "hola\n",
      "<class 'str'>\n"
     ]
    },
    {
     "ename": "ValueError",
     "evalue": "could not convert string to float: 'hola'",
     "output_type": "error",
     "traceback": [
      "\u001b[31m---------------------------------------------------------------------------\u001b[39m",
      "\u001b[31mValueError\u001b[39m                                Traceback (most recent call last)",
      "\u001b[36mCell\u001b[39m\u001b[36m \u001b[39m\u001b[32mIn[7]\u001b[39m\u001b[32m, line 5\u001b[39m\n\u001b[32m      3\u001b[39m \u001b[38;5;28mprint\u001b[39m(str3)\n\u001b[32m      4\u001b[39m \u001b[38;5;28mprint\u001b[39m(\u001b[38;5;28mtype\u001b[39m(str3))\n\u001b[32m----> \u001b[39m\u001b[32m5\u001b[39m float3 = \u001b[38;5;28;43mfloat\u001b[39;49m\u001b[43m(\u001b[49m\u001b[43mstr3\u001b[49m\u001b[43m)\u001b[49m\n\u001b[32m      6\u001b[39m \u001b[38;5;28mprint\u001b[39m(float3)\n\u001b[32m      7\u001b[39m \u001b[38;5;28mprint\u001b[39m(\u001b[38;5;28mtype\u001b[39m(float3))\n",
      "\u001b[31mValueError\u001b[39m: could not convert string to float: 'hola'"
     ]
    }
   ],
   "source": [
    "# Este codigo va a marcar error\n",
    "str3 = \"hola\"\n",
    "print(str3)\n",
    "print(type(str3))\n",
    "float3 = float(str3)\n",
    "print(float3)\n",
    "print(type(float3))"
   ]
  },
  {
   "cell_type": "markdown",
   "id": "c2fb4d1a-0cb9-4e2f-922c-f908883a5eb3",
   "metadata": {},
   "source": [
    "# int -> float"
   ]
  },
  {
   "cell_type": "code",
   "execution_count": 32,
   "id": "b6a09d59-06bf-42b3-9db1-478fc6b39ac2",
   "metadata": {},
   "outputs": [
    {
     "name": "stdout",
     "output_type": "stream",
     "text": [
      "<class 'int'>\n",
      "<class 'int'>\n"
     ]
    },
    {
     "ename": "TypeError",
     "evalue": "'float' object is not callable",
     "output_type": "error",
     "traceback": [
      "\u001b[31m---------------------------------------------------------------------------\u001b[39m",
      "\u001b[31mTypeError\u001b[39m                                 Traceback (most recent call last)",
      "\u001b[36mCell\u001b[39m\u001b[36m \u001b[39m\u001b[32mIn[32]\u001b[39m\u001b[32m, line 4\u001b[39m\n\u001b[32m      2\u001b[39m \u001b[38;5;28mprint\u001b[39m(\u001b[38;5;28mint\u001b[39m)\n\u001b[32m      3\u001b[39m \u001b[38;5;28mprint\u001b[39m(\u001b[38;5;28mtype\u001b[39m(int1))\n\u001b[32m----> \u001b[39m\u001b[32m4\u001b[39m float1 = \u001b[38;5;28;43mfloat\u001b[39;49m\u001b[43m(\u001b[49m\u001b[43mint1\u001b[49m\u001b[43m)\u001b[49m\n\u001b[32m      5\u001b[39m \u001b[38;5;28mprint\u001b[39m(float1)\n\u001b[32m      6\u001b[39m \u001b[38;5;28mprint\u001b[39m(\u001b[38;5;28mtype\u001b[39m(float1))\n",
      "\u001b[31mTypeError\u001b[39m: 'float' object is not callable"
     ]
    }
   ],
   "source": [
    "int1 = 34\n",
    "print(int)\n",
    "print(type(int1))\n",
    "float1 = float(int1)\n",
    "print(float1)\n",
    "print(type(float1))"
   ]
  },
  {
   "cell_type": "markdown",
   "id": "04d75134-a38c-45f3-89e6-272854d197da",
   "metadata": {},
   "source": [
    "## bool -> float"
   ]
  },
  {
   "cell_type": "code",
   "execution_count": 33,
   "id": "5f6bdde0-a339-43cf-abb5-d797f20419e5",
   "metadata": {},
   "outputs": [
    {
     "name": "stdout",
     "output_type": "stream",
     "text": [
      "True\n",
      "<class 'bool'>\n"
     ]
    },
    {
     "ename": "TypeError",
     "evalue": "'float' object is not callable",
     "output_type": "error",
     "traceback": [
      "\u001b[31m---------------------------------------------------------------------------\u001b[39m",
      "\u001b[31mTypeError\u001b[39m                                 Traceback (most recent call last)",
      "\u001b[36mCell\u001b[39m\u001b[36m \u001b[39m\u001b[32mIn[33]\u001b[39m\u001b[32m, line 4\u001b[39m\n\u001b[32m      2\u001b[39m \u001b[38;5;28mprint\u001b[39m(bool1)\n\u001b[32m      3\u001b[39m \u001b[38;5;28mprint\u001b[39m(\u001b[38;5;28mtype\u001b[39m(bool1))\n\u001b[32m----> \u001b[39m\u001b[32m4\u001b[39m float1 = \u001b[38;5;28;43mfloat\u001b[39;49m\u001b[43m(\u001b[49m\u001b[43mbool1\u001b[49m\u001b[43m)\u001b[49m\n\u001b[32m      5\u001b[39m \u001b[38;5;28mprint\u001b[39m(float1)\n\u001b[32m      6\u001b[39m \u001b[38;5;28mprint\u001b[39m(\u001b[38;5;28mtype\u001b[39m(float1))\n",
      "\u001b[31mTypeError\u001b[39m: 'float' object is not callable"
     ]
    }
   ],
   "source": [
    "bool1 = True\n",
    "print(bool1)\n",
    "print(type(bool1))\n",
    "float1 = float(bool1)\n",
    "print(float1)\n",
    "print(type(float1))"
   ]
  },
  {
   "cell_type": "code",
   "execution_count": 35,
   "id": "df80f1ce-387f-4f2c-902f-dd790b16873c",
   "metadata": {},
   "outputs": [
    {
     "name": "stdout",
     "output_type": "stream",
     "text": [
      "False\n",
      "<class 'bool'>\n"
     ]
    },
    {
     "ename": "TypeError",
     "evalue": "'float' object is not callable",
     "output_type": "error",
     "traceback": [
      "\u001b[31m---------------------------------------------------------------------------\u001b[39m",
      "\u001b[31mTypeError\u001b[39m                                 Traceback (most recent call last)",
      "\u001b[36mCell\u001b[39m\u001b[36m \u001b[39m\u001b[32mIn[35]\u001b[39m\u001b[32m, line 4\u001b[39m\n\u001b[32m      2\u001b[39m \u001b[38;5;28mprint\u001b[39m(bool2)\n\u001b[32m      3\u001b[39m \u001b[38;5;28mprint\u001b[39m(\u001b[38;5;28mtype\u001b[39m(bool2))\n\u001b[32m----> \u001b[39m\u001b[32m4\u001b[39m float2 = \u001b[38;5;28;43mfloat\u001b[39;49m\u001b[43m(\u001b[49m\u001b[43mbool2\u001b[49m\u001b[43m)\u001b[49m\n\u001b[32m      5\u001b[39m \u001b[38;5;28mprint\u001b[39m(float2)\n\u001b[32m      6\u001b[39m \u001b[38;5;28mprint\u001b[39m(tyoe(float2))\n",
      "\u001b[31mTypeError\u001b[39m: 'float' object is not callable"
     ]
    }
   ],
   "source": [
    "bool2 = False\n",
    "print(bool2)\n",
    "print(type(bool2))\n",
    "float2 = float(bool2)\n",
    "print(float2)\n",
    "print(tyoe(float2))"
   ]
  },
  {
   "cell_type": "markdown",
   "id": "b8c43530-7e08-451a-8453-97f7b999da71",
   "metadata": {},
   "source": [
    "## str -> bool "
   ]
  },
  {
   "cell_type": "code",
   "execution_count": 36,
   "id": "2fc2af1b-4b13-4272-86a1-60ae3875a9be",
   "metadata": {},
   "outputs": [
    {
     "name": "stdout",
     "output_type": "stream",
     "text": [
      "True\n",
      "<class 'str'>\n",
      "True\n",
      "<class 'bool'>\n"
     ]
    }
   ],
   "source": [
    "str1 = \"True\"\n",
    "print(str1)\n",
    "print(type(str1))\n",
    "bool1 = bool(str1)\n",
    "print(bool1)\n",
    "print(type(bool1))"
   ]
  },
  {
   "cell_type": "code",
   "execution_count": 37,
   "id": "d344df28-3043-4d47-b281-52b33162d759",
   "metadata": {},
   "outputs": [
    {
     "name": "stdout",
     "output_type": "stream",
     "text": [
      "False\n",
      "<class 'str'>\n",
      "True\n",
      "<class 'bool'>\n"
     ]
    }
   ],
   "source": [
    "str2 = \"False\"\n",
    "print(str2)\n",
    "print(type(str2))\n",
    "bool2 = bool(str2)\n",
    "print(bool2)\n",
    "print(type(bool2))"
   ]
  },
  {
   "cell_type": "code",
   "execution_count": 39,
   "id": "550abb8f-22a5-45a0-a9a7-fdbfe0b69065",
   "metadata": {},
   "outputs": [
    {
     "name": "stdout",
     "output_type": "stream",
     "text": [
      "\n",
      "<class 'str'>\n",
      "False\n",
      "<class 'bool'>\n"
     ]
    }
   ],
   "source": [
    "str3 = \"\"\n",
    "print(str3)\n",
    "print(type(str3))\n",
    "bool3str3 = bool(str3)\n",
    "print(bool3str3)\n",
    "print(type(bool3str3))"
   ]
  },
  {
   "cell_type": "code",
   "execution_count": 41,
   "id": "f9cd66dd-76dc-481f-8d4c-9ddba3b1ca91",
   "metadata": {},
   "outputs": [
    {
     "name": "stdout",
     "output_type": "stream",
     "text": [
      "*\n",
      "<class 'str'>\n",
      "True\n",
      "<class 'bool'>\n"
     ]
    }
   ],
   "source": [
    "str4 = \"*\"\n",
    "print(str4)\n",
    "print(type(str4))\n",
    "bool4 = bool(str4)\n",
    "print(bool4)\n",
    "print(type(bool4))"
   ]
  },
  {
   "cell_type": "markdown",
   "id": "eec5b3af-7c7d-4b0a-948a-b883e3b92625",
   "metadata": {},
   "source": [
    "## int -> bool"
   ]
  },
  {
   "cell_type": "code",
   "execution_count": 42,
   "id": "f3cd224c-bd5d-476f-9719-d47349250f3c",
   "metadata": {},
   "outputs": [
    {
     "name": "stdout",
     "output_type": "stream",
     "text": [
      "1\n",
      "<class 'int'>\n",
      "True\n",
      "<class 'bool'>\n"
     ]
    }
   ],
   "source": [
    "int1 = 1\n",
    "print(int1)\n",
    "print(type(int1))\n",
    "bool1 = bool(int1)\n",
    "print(bool1)\n",
    "print(type(bool1))"
   ]
  },
  {
   "cell_type": "code",
   "execution_count": 43,
   "id": "992123cf-5393-4400-84b1-2c0a84eaad12",
   "metadata": {},
   "outputs": [
    {
     "name": "stdout",
     "output_type": "stream",
     "text": [
      "0\n",
      "<class 'int'>\n",
      "False\n",
      "<class 'bool'>\n"
     ]
    }
   ],
   "source": [
    "int = 20\n",
    "print(int2)\n",
    "print(type(int2))\n",
    "bool2 = bool(int2)\n",
    "print(bool2)\n",
    "print(type(bool2))"
   ]
  },
  {
   "cell_type": "markdown",
   "id": "1f55155e-7ad8-411b-aeb9-a0e806fd36d7",
   "metadata": {},
   "source": [
    "int3 = 0\n",
    "print(int3)\n",
    "print(type(int3))\n",
    "bool3 = bool(int3)\n",
    "print(bool3)\n",
    "print(type(bool3))"
   ]
  },
  {
   "cell_type": "code",
   "execution_count": 45,
   "id": "81ea47c7-9f4c-49ab-bc74-88a7adef226a",
   "metadata": {},
   "outputs": [
    {
     "name": "stdout",
     "output_type": "stream",
     "text": [
      "-10\n",
      "<class 'int'>\n",
      "True\n",
      "<class 'bool'>\n"
     ]
    }
   ],
   "source": [
    "int4 = -10\n",
    "print(int4)\n",
    "print(type(int4))\n",
    "bool4 = bool(int4)\n",
    "print(bool4)\n",
    "print(type(bool4))"
   ]
  },
  {
   "cell_type": "markdown",
   "id": "d6755e82-bcbd-4e3b-a6ef-307e8022f761",
   "metadata": {},
   "source": [
    "## Float -> bool"
   ]
  },
  {
   "cell_type": "code",
   "execution_count": 2,
   "id": "03d1a806-0180-41f8-ad42-1cda1ae880b3",
   "metadata": {},
   "outputs": [
    {
     "name": "stdout",
     "output_type": "stream",
     "text": [
      "1.0\n",
      "<class 'float'>\n",
      "True\n",
      "<class 'bool'>\n"
     ]
    }
   ],
   "source": [
    "float1 = 1.0\n",
    "print(float1)\n",
    "print(type(float1))\n",
    "bool1 = bool(float1)\n",
    "print(bool1)\n",
    "print(type(bool1))"
   ]
  },
  {
   "cell_type": "code",
   "execution_count": 4,
   "id": "f48aa2d0-4d21-4f48-bd9e-d840a1a160ee",
   "metadata": {},
   "outputs": [
    {
     "name": "stdout",
     "output_type": "stream",
     "text": [
      "0.0\n",
      "<class 'float'>\n",
      "False\n",
      "<class 'bool'>\n"
     ]
    }
   ],
   "source": [
    "float2 = 0.0\n",
    "print(float2)\n",
    "print(type(float2))\n",
    "bool2 = bool(float2)\n",
    "print(bool2)\n",
    "print(type(bool2))"
   ]
  },
  {
   "cell_type": "code",
   "execution_count": 6,
   "id": "f3ca7d7c-ac72-44c5-ae02-849077db91c6",
   "metadata": {},
   "outputs": [
    {
     "name": "stdout",
     "output_type": "stream",
     "text": [
      "-4.2\n",
      "<class 'float'>\n",
      "True\n",
      "<class 'bool'>\n"
     ]
    }
   ],
   "source": [
    "float3= -4.2\n",
    "print(float3)\n",
    "print(type(float3))\n",
    "bool3 = bool(float3)\n",
    "print(bool3)\n",
    "print(type(bool3))"
   ]
  },
  {
   "cell_type": "code",
   "execution_count": 8,
   "id": "453bfdfe-0e50-46be-917e-712ff7df7efe",
   "metadata": {},
   "outputs": [
    {
     "name": "stdout",
     "output_type": "stream",
     "text": [
      "0.005\n",
      "<class 'float'>\n",
      "True\n",
      "<class 'bool'>\n"
     ]
    }
   ],
   "source": [
    "float4= 0.005\n",
    "print(float4)\n",
    "print(type(float4))\n",
    "bool4 = bool(float4)\n",
    "print(bool4)\n",
    "print(type(bool4))"
   ]
  },
  {
   "cell_type": "markdown",
   "id": "fa650796-58e4-4a50-b959-9161dc8fa3fe",
   "metadata": {},
   "source": [
    "# STRING"
   ]
  },
  {
   "cell_type": "code",
   "execution_count": 9,
   "id": "81c3dd79-bfc1-4c20-b803-e61f9a68d799",
   "metadata": {},
   "outputs": [
    {
     "name": "stdout",
     "output_type": "stream",
     "text": [
      "2023\n",
      "Shake It Off\n",
      "123\n",
      "42\n",
      "釘崎野薔薇\n",
      "19.53\n"
     ]
    }
   ],
   "source": [
    "año = 2023\n",
    "canción = \"Shake It Off\"\n",
    "_123 = 123\n",
    "\n",
    "print(año)\n",
    "print(canción)\n",
    "print(_123)\n",
    "\n",
    "数字 = 42\n",
    "名前 = \"釘崎野薔薇\"\n",
    "合計 = 19.53\n",
    "print(数字)\n",
    "print(名前)\n",
    "print(合計)"
   ]
  },
  {
   "cell_type": "code",
   "execution_count": 10,
   "id": "98597563-df57-4529-9979-649bcb0952e9",
   "metadata": {},
   "outputs": [
    {
     "name": "stdout",
     "output_type": "stream",
     "text": [
      "Lily\n",
      "Marisol\n"
     ]
    }
   ],
   "source": [
    "nombre = \"Lily\"\n",
    "Nombre = \"Marisol\"\n",
    "print(nombre)\n",
    "print(Nombre)"
   ]
  },
  {
   "cell_type": "code",
   "execution_count": 13,
   "id": "3888eb4f-0b13-43eb-9aeb-8bd1474a115f",
   "metadata": {},
   "outputs": [
    {
     "name": "stdout",
     "output_type": "stream",
     "text": [
      "513.000009\n"
     ]
    }
   ],
   "source": [
    "esta_variable_muy_pero_muy_larga_no_es_un_chiste_es_un_nombre_valido_pero_mejor_no_escriban_nombres_asi_de_largos_no_sea = 513.000009\n",
    "print(esta_variable_muy_pero_muy_larga_no_es_un_chiste_es_un_nombre_valido_pero_mejor_no_escriban_nombres_asi_de_largos_no_sea)\n"
   ]
  },
  {
   "cell_type": "code",
   "execution_count": 11,
   "id": "6a34e774-4459-4206-b948-1b12725d0c0f",
   "metadata": {},
   "outputs": [
    {
     "name": "stdout",
     "output_type": "stream",
     "text": [
      "True\n",
      "<class 'bool'>\n",
      "Hola\n",
      "<class 'str'>\n",
      "40.5\n",
      "<class 'float'>\n"
     ]
    }
   ],
   "source": [
    "miVariable = True\n",
    "print(miVariable)\n",
    "print(type(miVariable))\n",
    "\n",
    "miVariable = \"Hola\"\n",
    "print(miVariable)\n",
    "print(type(miVariable))\n",
    "\n",
    "miVariable = 40.5\n",
    "print(miVariable)\n",
    "print(type(miVariable))"
   ]
  },
  {
   "cell_type": "code",
   "execution_count": null,
   "id": "30802cbc-0486-40c0-9832-e2ec2c9e48b5",
   "metadata": {},
   "outputs": [],
   "source": []
  }
 ],
 "metadata": {
  "kernelspec": {
   "display_name": "Python 3 (ipykernel)",
   "language": "python",
   "name": "python3"
  },
  "language_info": {
   "codemirror_mode": {
    "name": "ipython",
    "version": 3
   },
   "file_extension": ".py",
   "mimetype": "text/x-python",
   "name": "python",
   "nbconvert_exporter": "python",
   "pygments_lexer": "ipython3",
   "version": "3.11.2"
  }
 },
 "nbformat": 4,
 "nbformat_minor": 5
}
