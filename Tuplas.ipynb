{
 "cells": [
  {
   "cell_type": "markdown",
   "id": "cb9e8d6d",
   "metadata": {},
   "source": [
    "## Tupla"
   ]
  },
  {
   "cell_type": "code",
   "execution_count": 1,
   "id": "621ed11d",
   "metadata": {},
   "outputs": [
    {
     "data": {
      "text/plain": [
       "tuple"
      ]
     },
     "execution_count": 1,
     "metadata": {},
     "output_type": "execute_result"
    }
   ],
   "source": [
    "miTupla = (3, 4, 3, 1)\n",
    "type(miTupla)"
   ]
  },
  {
   "cell_type": "code",
   "execution_count": 2,
   "id": "b3837b73",
   "metadata": {},
   "outputs": [
    {
     "data": {
      "text/plain": [
       "4"
      ]
     },
     "execution_count": 2,
     "metadata": {},
     "output_type": "execute_result"
    }
   ],
   "source": [
    "miTupla = (3, 4, 3, 1)\n",
    "miTupla[1]"
   ]
  },
  {
   "cell_type": "code",
   "execution_count": 3,
   "id": "908a54f0",
   "metadata": {},
   "outputs": [
    {
     "data": {
      "text/plain": [
       "(4, 3)"
      ]
     },
     "execution_count": 3,
     "metadata": {},
     "output_type": "execute_result"
    }
   ],
   "source": [
    "miTupla = (3,4,3,1)\n",
    "miTupla[1:3]"
   ]
  },
  {
   "cell_type": "code",
   "execution_count": 6,
   "id": "36eb6d37",
   "metadata": {},
   "outputs": [],
   "source": [
    "miTupla = (\"Hola\", 23, 1.78, True, \"Adiós\")"
   ]
  },
  {
   "cell_type": "code",
   "execution_count": 7,
   "id": "7056bd8c",
   "metadata": {},
   "outputs": [
    {
     "name": "stdout",
     "output_type": "stream",
     "text": [
      "Hola\n",
      "23\n",
      "1.78\n",
      "True\n",
      "Adiós\n"
     ]
    }
   ],
   "source": [
    "for x in miTupla:\n",
    "    print(x)"
   ]
  },
  {
   "cell_type": "code",
   "execution_count": null,
   "id": "4d4d1500",
   "metadata": {},
   "outputs": [
    {
     "name": "stdout",
     "output_type": "stream",
     "text": [
      "Hola\n",
      "23\n",
      "1.78\n",
      "True\n",
      "Adiós\n"
     ]
    }
   ],
   "source": [
    "for i in range(len(miTupla)):\n",
    "    print(miTupla[i])"
   ]
  },
  {
   "cell_type": "code",
   "execution_count": 10,
   "id": "24114bfb",
   "metadata": {},
   "outputs": [
    {
     "data": {
      "text/plain": [
       "(4, 2, 3)"
      ]
     },
     "execution_count": 10,
     "metadata": {},
     "output_type": "execute_result"
    }
   ],
   "source": [
    "miTupla = (1,2,3)\n",
    "miLista = list(miTupla)\n",
    "miLista[0] = 4\n",
    "miTupla = tuple(miLista)\n",
    "miTupla"
   ]
  },
  {
   "cell_type": "markdown",
   "id": "a3c9e86a",
   "metadata": {},
   "source": [
    "1. Crear un deque ya gregar elementos:"
   ]
  },
  {
   "cell_type": "code",
   "execution_count": null,
   "id": "62e88996",
   "metadata": {},
   "outputs": [],
   "source": [
    "from collections import deque\n",
    "\n",
    "d = deque([1, 2, 3])\n",
    "d.append(4) # [1, 2, 3, 4]\n",
    "d.appendleft(0) # [0, 1, 2, 3, 4]\n"
   ]
  },
  {
   "cell_type": "markdown",
   "id": "4f95e082",
   "metadata": {},
   "source": [
    "2. Eliminar elementos de un deque"
   ]
  },
  {
   "cell_type": "code",
   "execution_count": null,
   "id": "b6e0b64c",
   "metadata": {},
   "outputs": [],
   "source": [
    "d = deque([1, 2, 3, 4, 5])\n",
    "print(d.pop())      # 5, d = [1, 2, 3, 4]\n",
    "print(d.popleft())  # 1, d = [2, 3, 4]"
   ]
  },
  {
   "cell_type": "markdown",
   "id": "df7eefd9",
   "metadata": {},
   "source": [
    "3. Utilizar un deque como cola:"
   ]
  },
  {
   "cell_type": "code",
   "execution_count": null,
   "id": "a7f0956b",
   "metadata": {},
   "outputs": [],
   "source": [
    "cola = deque()"
   ]
  },
  {
   "cell_type": "code",
   "execution_count": null,
   "id": "8cdc1981",
   "metadata": {},
   "outputs": [],
   "source": [
    "miDeque = deque()\n",
    "type(miDeque)\n",
    "\n",
    "miDeque = deque([1,2,3])"
   ]
  }
 ],
 "metadata": {
  "kernelspec": {
   "display_name": ".venv (3.12.5)",
   "language": "python",
   "name": "python3"
  },
  "language_info": {
   "codemirror_mode": {
    "name": "ipython",
    "version": 3
   },
   "file_extension": ".py",
   "mimetype": "text/x-python",
   "name": "python",
   "nbconvert_exporter": "python",
   "pygments_lexer": "ipython3",
   "version": "3.12.5"
  }
 },
 "nbformat": 4,
 "nbformat_minor": 5
}
