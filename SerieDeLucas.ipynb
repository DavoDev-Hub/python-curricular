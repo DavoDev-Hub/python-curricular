{
 "cells": [
  {
   "cell_type": "code",
   "execution_count": 1,
   "id": "a59cdaad",
   "metadata": {},
   "outputs": [
    {
     "name": "stdout",
     "output_type": "stream",
     "text": [
      "Serie de Lucas:\n",
      "2, 1, 3, 4, 7, 11, 18, 29, 47, 76\n"
     ]
    }
   ],
   "source": [
    "'''\n",
    "Crear un código de la Serie de Lucas y correr el programa y mostrar la corrida, todo grabarlo en un archivo PDF y subirlo a este espacio para obtener 2 puntos sobre el examen del 1ER  parcial. \n",
    "\n",
    "La serie de Lucas se define de manera similar a la serie de Fibonacci, pero con diferentes valores iniciales.\n",
    "\n",
    "*Serie de Fibonacci:*\n",
    "0, 1, 1, 2, 3, 5, 8, 13, 21, 34, ...\n",
    "\n",
    "*Serie de Lucas:*\n",
    "2, 1, 3, 4, 7, 11, 18, 29, 47, 76, ...\n",
    "\n",
    "La serie de Lucas se define mediante la fórmula recursiva:\n",
    "L ( n ) = L(n-1) + L(n-2)\n",
    "\n",
    "donde L(0) = 2 y L(1) = 1\n",
    "'''\n",
    "\n",
    "def lucas(n):\n",
    "    if n == 0:\n",
    "        return 2\n",
    "    elif n == 1:\n",
    "        return 1\n",
    "    else:\n",
    "        return lucas(n - 1) + lucas(n - 2)\n",
    "num_terms = 10\n",
    "print(\"Serie de Lucas:\")\n",
    "for i in range(num_terms):\n",
    "    print(lucas(i), end=\", \" if i < num_terms - 1 else \"\\n\")\n"
   ]
  }
 ],
 "metadata": {
  "kernelspec": {
   "display_name": ".venv (3.12.5)",
   "language": "python",
   "name": "python3"
  },
  "language_info": {
   "codemirror_mode": {
    "name": "ipython",
    "version": 3
   },
   "file_extension": ".py",
   "mimetype": "text/x-python",
   "name": "python",
   "nbconvert_exporter": "python",
   "pygments_lexer": "ipython3",
   "version": "3.12.5"
  }
 },
 "nbformat": 4,
 "nbformat_minor": 5
}
