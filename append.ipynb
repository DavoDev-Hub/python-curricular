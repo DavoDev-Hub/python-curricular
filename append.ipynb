{
 "cells": [
  {
   "cell_type": "markdown",
   "id": "ec2dfd7d",
   "metadata": {},
   "source": [
    "# Método\n",
    "### Append"
   ]
  },
  {
   "cell_type": "code",
   "execution_count": 1,
   "id": "8f12a3ff",
   "metadata": {},
   "outputs": [
    {
     "name": "stdout",
     "output_type": "stream",
     "text": [
      "['Azul', 'rojo', 'verde', 'amarillo', 'rosa']\n"
     ]
    }
   ],
   "source": [
    "colores = [\"Azul\", \"rojo\", \"verde\", \"amarillo\"]\n",
    "colores.append(\"rosa\") # colores += [\"rosa\"]\n",
    "print(colores)"
   ]
  },
  {
   "cell_type": "code",
   "execution_count": 2,
   "id": "d447db4e",
   "metadata": {},
   "outputs": [
    {
     "name": "stdout",
     "output_type": "stream",
     "text": [
      "['Azul', 'rojo', 'verde', 'amarillo', 'rosa']\n"
     ]
    }
   ],
   "source": [
    "colores = [\"Azul\", \"rojo\", \"verde\", \"amarillo\"]\n",
    "colores += [\"rosa\"]\n",
    "print(colores)"
   ]
  }
 ],
 "metadata": {
  "kernelspec": {
   "display_name": ".venv (3.12.5)",
   "language": "python",
   "name": "python3"
  },
  "language_info": {
   "codemirror_mode": {
    "name": "ipython",
    "version": 3
   },
   "file_extension": ".py",
   "mimetype": "text/x-python",
   "name": "python",
   "nbconvert_exporter": "python",
   "pygments_lexer": "ipython3",
   "version": "3.12.5"
  }
 },
 "nbformat": 4,
 "nbformat_minor": 5
}
