{
 "cells": [
  {
   "cell_type": "markdown",
   "id": "a2ae38d3",
   "metadata": {},
   "source": [
    "# Ejercicios 2do parcial\n",
    "\n",
    "**Autor:** Juan Pablo Jiménez Martín\n",
    "**Fecha:** 24 Octubre 2025  \n",
    "**Objetivo:** Desarrollar los 10 ejercicios propuestos con su explicación en python\n",
    "\n",
    "---"
   ]
  },
  {
   "cell_type": "markdown",
   "id": "eeba1100",
   "metadata": {},
   "source": [
    "### Librerías"
   ]
  },
  {
   "cell_type": "code",
   "execution_count": 1,
   "id": "b8e92f01",
   "metadata": {},
   "outputs": [],
   "source": [
    "from collections import deque"
   ]
  },
  {
   "cell_type": "markdown",
   "id": "3b8c1f44",
   "metadata": {},
   "source": [
    "## Problema 1\n",
    "\n",
    "Simulando un stack (pila)\n",
    "\n",
    "Revisar cuantas veces aparece el elemento n en la pila stack."
   ]
  },
  {
   "cell_type": "code",
   "execution_count": null,
   "id": "88ad1dd5",
   "metadata": {},
   "outputs": [
    {
     "name": "stdout",
     "output_type": "stream",
     "text": [
      "El elemento 8 aparece 3 veces en la pila.\n"
     ]
    }
   ],
   "source": [
    "stack = deque([8, 3, 2, 10, 11, 4, 8, 20, 5, 2, 8])\n",
    "aux = deque()\n",
    "# Operaciones que podemos usar\n",
    "# push -> stack.append()\n",
    "# pop -> stack.pop()\n",
    "# peek -> stack[-1]\n",
    "# En lugar de isEmpty usaremos len(stack) == 0\n",
    "\n",
    "# Mi solción usando una pila auxiliar\n",
    "# n = 8\n",
    "# while len(stack) > 0:\n",
    "#     top = stack.pop()\n",
    "#     if top == n:\n",
    "#         aux.append(top)\n",
    "# print(f\"El elemento {n} aparece {len(aux)} veces en la pila.\")\n",
    "\n",
    "# ------------------------------------------------------------------------------------\n",
    "# List comprehension con el auxiliar\n",
    "n = 8\n",
    "count = sum([1 for x in stack if x == n])\n",
    "print(f\"El elemento {n} aparece {count} veces en la pila.\")"
   ]
  },
  {
   "cell_type": "markdown",
   "id": "8f6ee4da",
   "metadata": {},
   "source": [
    "#### Explicación de mi solución\n",
    "\n",
    "Para contar cuántas veces aparece el elemento n en la pila, utilicé una list comprehension con sum(). La expresión sum([1 for x in stack if x == n]) recorre todos los elementos de la pila y genera un 1 por cada elemento que sea igual a n, luego suma todos esos 1 para obtener el total de apariciones. Esta solución es más directa y eficiente que usar una pila auxiliar con un bucle while."
   ]
  },
  {
   "cell_type": "markdown",
   "id": "f47e6fe7",
   "metadata": {},
   "source": [
    "# Problema 2\n",
    "Voltea el orden de los primeros k elementos de la cola queue"
   ]
  },
  {
   "cell_type": "code",
   "execution_count": 26,
   "id": "bc729a2c",
   "metadata": {},
   "outputs": [
    {
     "name": "stdout",
     "output_type": "stream",
     "text": [
      "deque([27, 24, 5, 40, 2, 103, 19, 80, 3])\n"
     ]
    }
   ],
   "source": [
    "from collections import deque\n",
    "# Operaciones que podemos usar\n",
    "# push -> stack.append()\n",
    "# pop -> stack.pop()\n",
    "# peek -> stack[-1]\n",
    "# En lugar de isEmpty usaremos len(stack) == 0\n",
    "# Operaciones que podemos usar para queue\n",
    "# enqueue -> queue.append()\n",
    "# dequeue -> queue.popleft()\n",
    "# peek -> queue[0]\n",
    "# En lugar de isEmpty usaremos len(queue) == 0\n",
    "stack = deque()\n",
    "queue = deque([24, 27, 5, 40, 2, 103, 19, 80, 3])\n",
    "k = 2\n",
    "n = len(queue)\n",
    "if k > n:\n",
    "    k = n\n",
    "if k > 0 and n > 0:\n",
    "    stack = deque()\n",
    "    for _ in range(k):\n",
    "        stack.append(queue.popleft())\n",
    "    while len(stack) != 0:\n",
    "        queue.append(stack.pop())\n",
    "    for _ in range(n - k):\n",
    "        queue.append(queue.popleft())\n",
    "print(queue) "
   ]
  },
  {
   "cell_type": "markdown",
   "id": "1a3e1ace",
   "metadata": {},
   "source": [
    "#### Explicación de mi solución\n",
    "\n",
    "Para voltear el orden de los primeros k elementos de la cola, primero verifico si k es válido (mayor que 0 y no mayor que el tamaño de la cola). Luego uso una pila auxiliar para invertir el orden: paso los primeros k elementos de la cola a la pila con popleft(), esto invierte su orden automáticamente. Después regreso todos los elementos de la pila a la cola con pop(), quedando invertidos. Finalmente, muevo los elementos restantes (n - k) al final de la cola para mantener el orden original de los que no debían invertirse."
   ]
  },
  {
   "cell_type": "markdown",
   "id": "579143c3",
   "metadata": {},
   "source": [
    "# Problema 3:\n",
    "Traer al inicio los ultimos K elementos del queue"
   ]
  },
  {
   "cell_type": "code",
   "execution_count": null,
   "id": "319893a4",
   "metadata": {},
   "outputs": [],
   "source": [
    "from collections import deque\n",
    "\n",
    "# Operaciones que podemos usar para queue\n",
    "# enqueue -> queue.append()\n",
    "# dequeue -> queue.popleft()\n",
    "# peek -> queue[0]\n",
    "# En lugar de isEmpty usaremos len(queue) == 0\n",
    "\n",
    "queue = deque([24, 27, 5, 40, 2, 103, 19, 80, 3])\n",
    "k = 3\n",
    "n = len(queue)\n",
    "\n",
    "if k > 0 and k <= n:\n",
    "    # Movemos los primeros (n - k) elementos al final\n",
    "    for _ in range(n - k):\n",
    "        queue.append(queue.popleft())\n",
    "    \n",
    "print(queue)"
   ]
  },
  {
   "cell_type": "markdown",
   "id": "95e26a72",
   "metadata": {},
   "source": [
    "# Problema 4:\n",
    "Desarrollar un sistema para manejar tareas en una aplicación de productividad. Cada tarea se representa como una tupla (nombre_tarea, prioridad, tiempo_estimado), donde prioridad es un entero (1 = alta, 5 = baja) y tiempo_estimado es en minutos.\n",
    "\n",
    "Ejemplo de entrada/salida:\n",
    "Lista inicial: [('Escribir informe', 2, 30), ('Llamar cliente', 1, 15), ('Revisar emails', 4, 10)]\n",
    "\n",
    "Ordenar la lista en orden descendente en base a la prioridad, es decir dejar al inicio las de mayor prioridad."
   ]
  },
  {
   "cell_type": "markdown",
   "id": "3af89605",
   "metadata": {},
   "source": [
    "# Problema 5\n",
    "\n",
    "Simulador de Ventana Deslizante para Análisis de Datos\n",
    "\n",
    "Crear un analizador de datos en tiempo real para un sensor que genera lecturas numéricas. Cada lectura se representa como una tupla (timestamp, valor), donde timestamp es un entero (segundos desde el inicio) y valor es un número flotante.\n",
    "\n",
    "Ejemplo de entrada/salida:\n",
    "Lista de lecturas: [ (1, 10.5), (2, 12.0), (3, 11.2), (4, 13.5), (5, 14.0), (6, 15.1) ] (continúa hasta 10).\n",
    "\n",
    "Ordenar la lista en base a el valor en forma ascendente."
   ]
  },
  {
   "cell_type": "markdown",
   "id": "4f0eeb9f",
   "metadata": {},
   "source": [
    "# Problema 6: \n",
    "Escribe una función llamada calcular_promedio que tome una lista de números como argumento y retorne el promedio de esos números."
   ]
  },
  {
   "cell_type": "markdown",
   "id": "6d6f87f7",
   "metadata": {},
   "source": [
    "# Problema 7: \n",
    "Una función que calcule el factorial de un número, lo cual involucra un loop. Recuerden utilizar funciones"
   ]
  },
  {
   "cell_type": "markdown",
   "id": "3b13b6fd",
   "metadata": {},
   "source": [
    "# Problema 8: \n",
    "Una función que verifique si un número es par o impar."
   ]
  },
  {
   "cell_type": "markdown",
   "id": "e7abbefc",
   "metadata": {},
   "source": [
    "# Problema 9: \n",
    "Una función que procese una lista, como encontrar el máximo."
   ]
  },
  {
   "cell_type": "markdown",
   "id": "4d14aa5b",
   "metadata": {},
   "source": [
    "# Problema 10: \n",
    "Escribe un programa que use un diccionario para almacenar información de estudiantes (por ejemplo, nombre como clave y una lista de calificaciones como valor). Incluye funciones para agregar un estudiante, calcular el promedio de calificaciones de un estudiante, y mostrar todos los estudiantes.\n",
    "Requisitos: Funciones: agregar_estudiante, calcular_promedio, mostrar_estudiantes.\n",
    "Diccionario: para almacenar datos.\n",
    "\n",
    "Si se desea consultar una serie de estudiantes mediante la funcion mostrar_estudiantes se podra realizar y al mismo tiempo mostrar el promedio de calificaciones de cada uno de los estudiantes solicitados."
   ]
  }
 ],
 "metadata": {
  "kernelspec": {
   "display_name": ".venv (3.12.5)",
   "language": "python",
   "name": "python3"
  },
  "language_info": {
   "codemirror_mode": {
    "name": "ipython",
    "version": 3
   },
   "file_extension": ".py",
   "mimetype": "text/x-python",
   "name": "python",
   "nbconvert_exporter": "python",
   "pygments_lexer": "ipython3",
   "version": "3.12.5"
  }
 },
 "nbformat": 4,
 "nbformat_minor": 5
}
