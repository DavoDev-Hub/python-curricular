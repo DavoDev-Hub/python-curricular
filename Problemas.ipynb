{
 "cells": [
  {
   "cell_type": "markdown",
   "id": "3b8c1f44",
   "metadata": {},
   "source": [
    "# Problema 1\n",
    "\n",
    "Simulando un stack (pila)\n",
    "\n",
    "Revisar cuantas veces aparece el elemento n en la pila stack."
   ]
  },
  {
   "cell_type": "code",
   "execution_count": null,
   "id": "88ad1dd5",
   "metadata": {},
   "outputs": [
    {
     "name": "stdout",
     "output_type": "stream",
     "text": [
      "El elemento 8 aparece 3 veces en la pila.\n"
     ]
    }
   ],
   "source": [
    "from collections import deque\n",
    "stack = deque([8, 3, 2, 10, 11, 4, 8, 20, 5, 2, 8])\n",
    "aux = deque()\n",
    "# Operaciones que podemos usar\n",
    "# push -> stack.append()\n",
    "# pop -> stack.pop()\n",
    "# peek -> stack[-1]\n",
    "# En lugar de isEmpty usaremos len(stack) == 0\n",
    "\n",
    "# Mi solción usando una pila auxiliar\n",
    "# n = 8\n",
    "# while len(stack) > 0:\n",
    "#     top = stack.pop()\n",
    "#     if top == n:\n",
    "#         aux.append(top)\n",
    "# print(f\"El elemento {n} aparece {len(aux)} veces en la pila.\")\n",
    "\n",
    "# ------------------------------------------------------------------------------------\n",
    "# List comprehension con el auxiliar\n",
    "n = 8\n",
    "count = sum([1 for x in stack if x == n])\n",
    "print(f\"El elemento {n} aparece {count} veces en la pila.\")"
   ]
  },
  {
   "cell_type": "markdown",
   "id": "f47e6fe7",
   "metadata": {},
   "source": [
    "# Problema 2\n",
    "Voltea el orden de los primeros k elementos de la cola queue"
   ]
  },
  {
   "cell_type": "code",
   "execution_count": null,
   "id": "bc729a2c",
   "metadata": {},
   "outputs": [
    {
     "name": "stdout",
     "output_type": "stream",
     "text": [
      "deque([24, 27, 5, 40, 2, 103, 19, 80, 3])\n"
     ]
    }
   ],
   "source": [
    "from collections import deque\n",
    "# Operaciones que podemos usar\n",
    "# push -> stack.append()\n",
    "# pop -> stack.pop()\n",
    "# peek -> stack[-1]\n",
    "# En lugar de isEmpty usaremos len(stack) == 0\n",
    "# Operaciones que podemos usar para queue\n",
    "# enqueue -> queue.append()\n",
    "# dequeue -> queue.popleft()\n",
    "# peek -> queue[0]\n",
    "# En lugar de isEmpty usaremos len(queue) == 0\n",
    "stack = deque()\n",
    "queue = deque([24, 27, 5, 40, 2, 103, 19, 80, 3])\n",
    "k = 2\n",
    "n = len(queue)\n",
    "if k > n:\n",
    "    k = n\n",
    "if k > 0 and n > 0:\n",
    "    stack = deque()\n",
    "    for _ in range(k):\n",
    "        stack.append(queue.popleft())\n",
    "    while len(stack) != 0:\n",
    "        queue.append(stack.pop())\n",
    "    for _ in range(n - k):\n",
    "        queue.append(queue.popleft())\n",
    "print(queue) "
   ]
  },
  {
   "cell_type": "markdown",
   "id": "579143c3",
   "metadata": {},
   "source": [
    "# Problema 3:\n",
    "Traer al inicio los ultimos K elementos del queue"
   ]
  },
  {
   "cell_type": "code",
   "execution_count": null,
   "id": "e079e5d6",
   "metadata": {},
   "outputs": [],
   "source": []
  }
 ],
 "metadata": {
  "kernelspec": {
   "display_name": ".venv (3.12.5)",
   "language": "python",
   "name": "python3"
  },
  "language_info": {
   "codemirror_mode": {
    "name": "ipython",
    "version": 3
   },
   "file_extension": ".py",
   "mimetype": "text/x-python",
   "name": "python",
   "nbconvert_exporter": "python",
   "pygments_lexer": "ipython3",
   "version": "3.12.5"
  }
 },
 "nbformat": 4,
 "nbformat_minor": 5
}
