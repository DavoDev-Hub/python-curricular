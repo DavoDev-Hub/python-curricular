{
 "cells": [
  {
   "cell_type": "markdown",
   "id": "a2ae38d3",
   "metadata": {},
   "source": [
    "# Ejercicios 2do parcial\n",
    "\n",
    "**Autor:** Juan Pablo Jiménez Martín\n",
    "\n",
    "**Fecha:** 24 Octubre 2025 \n",
    " \n",
    "**Objetivo:** Desarrollar los 10 ejercicios propuestos con su explicación en python\n",
    "\n",
    "---"
   ]
  },
  {
   "cell_type": "markdown",
   "id": "eeba1100",
   "metadata": {},
   "source": [
    "### Librerías"
   ]
  },
  {
   "cell_type": "code",
   "execution_count": 1,
   "id": "b8e92f01",
   "metadata": {},
   "outputs": [],
   "source": [
    "from collections import deque"
   ]
  },
  {
   "cell_type": "markdown",
   "id": "3b8c1f44",
   "metadata": {},
   "source": [
    "## Problema 1\n",
    "\n",
    "Simulando un stack (pila)\n",
    "\n",
    "Revisar cuantas veces aparece el elemento n en la pila stack."
   ]
  },
  {
   "cell_type": "code",
   "execution_count": null,
   "id": "88ad1dd5",
   "metadata": {},
   "outputs": [
    {
     "name": "stdout",
     "output_type": "stream",
     "text": [
      "El elemento 8 aparece 3 veces en la pila.\n"
     ]
    }
   ],
   "source": [
    "stack = deque([8, 3, 2, 10, 11, 4, 8, 20, 5, 2, 8])\n",
    "aux = deque()\n",
    "# Operaciones que podemos usar\n",
    "# push -> stack.append()\n",
    "# pop -> stack.pop()\n",
    "# peek -> stack[-1]\n",
    "# En lugar de isEmpty usaremos len(stack) == 0\n",
    "\n",
    "# Mi solción usando una pila auxiliar\n",
    "# n = 8\n",
    "# while len(stack) > 0:\n",
    "#     top = stack.pop()\n",
    "#     if top == n:\n",
    "#         aux.append(top)\n",
    "# print(f\"El elemento {n} aparece {len(aux)} veces en la pila.\")\n",
    "\n",
    "# ------------------------------------------------------------------------------------\n",
    "# List comprehension con el auxiliar\n",
    "n = 8\n",
    "count = sum([1 for x in stack if x == n])\n",
    "print(f\"El elemento {n} aparece {count} veces en la pila.\")"
   ]
  },
  {
   "cell_type": "markdown",
   "id": "8f6ee4da",
   "metadata": {},
   "source": [
    "#### Explicación de mi solución\n",
    "\n",
    "Para contar cuántas veces aparece el elemento n en la pila, utilicé una list comprehension con sum(). La expresión sum([1 for x in stack if x == n]) recorre todos los elementos de la pila y genera un 1 por cada elemento que sea igual a n, luego suma todos esos 1 para obtener el total de apariciones. Esta solución es más directa y eficiente que usar una pila auxiliar con un bucle while."
   ]
  },
  {
   "cell_type": "markdown",
   "id": "f47e6fe7",
   "metadata": {},
   "source": [
    "# Problema 2\n",
    "Voltea el orden de los primeros k elementos de la cola queue"
   ]
  },
  {
   "cell_type": "code",
   "execution_count": 26,
   "id": "bc729a2c",
   "metadata": {},
   "outputs": [
    {
     "name": "stdout",
     "output_type": "stream",
     "text": [
      "deque([27, 24, 5, 40, 2, 103, 19, 80, 3])\n"
     ]
    }
   ],
   "source": [
    "from collections import deque\n",
    "# Operaciones que podemos usar\n",
    "# push -> stack.append()\n",
    "# pop -> stack.pop()\n",
    "# peek -> stack[-1]\n",
    "# En lugar de isEmpty usaremos len(stack) == 0\n",
    "# Operaciones que podemos usar para queue\n",
    "# enqueue -> queue.append()\n",
    "# dequeue -> queue.popleft()\n",
    "# peek -> queue[0]\n",
    "# En lugar de isEmpty usaremos len(queue) == 0\n",
    "stack = deque()\n",
    "queue = deque([24, 27, 5, 40, 2, 103, 19, 80, 3])\n",
    "k = 2\n",
    "n = len(queue)\n",
    "if k > n:\n",
    "    k = n\n",
    "if k > 0 and n > 0:\n",
    "    stack = deque()\n",
    "    for _ in range(k):\n",
    "        stack.append(queue.popleft())\n",
    "    while len(stack) != 0:\n",
    "        queue.append(stack.pop())\n",
    "    for _ in range(n - k):\n",
    "        queue.append(queue.popleft())\n",
    "print(queue) "
   ]
  },
  {
   "cell_type": "markdown",
   "id": "1a3e1ace",
   "metadata": {},
   "source": [
    "#### Explicación de mi solución\n",
    "\n",
    "Para voltear el orden de los primeros k elementos de la cola, primero verifico si k es válido (mayor que 0 y no mayor que el tamaño de la cola). Luego uso una pila auxiliar para invertir el orden: paso los primeros k elementos de la cola a la pila con popleft(), esto invierte su orden automáticamente. Después regreso todos los elementos de la pila a la cola con pop(), quedando invertidos. Finalmente, muevo los elementos restantes (n - k) al final de la cola para mantener el orden original de los que no debían invertirse."
   ]
  },
  {
   "cell_type": "markdown",
   "id": "579143c3",
   "metadata": {},
   "source": [
    "# Problema 3:\n",
    "Traer al inicio los ultimos K elementos del queue"
   ]
  },
  {
   "cell_type": "code",
   "execution_count": null,
   "id": "319893a4",
   "metadata": {},
   "outputs": [
    {
     "name": "stdout",
     "output_type": "stream",
     "text": [
      "deque([19, 80, 3, 24, 27, 5, 40, 2, 103])\n"
     ]
    }
   ],
   "source": [
    "from collections import deque\n",
    "\n",
    "# Operaciones que podemos usar para queue\n",
    "# enqueue -> queue.append()\n",
    "# dequeue -> queue.popleft()\n",
    "# peek -> queue[0]\n",
    "# En lugar de isEmpty usaremos len(queue) == 0\n",
    "\n",
    "queue = deque([24, 27, 5, 40, 2, 103, 19, 80, 3])\n",
    "k = 3\n",
    "n = len(queue)\n",
    "\n",
    "if k > 0 and k <= n:\n",
    "    for _ in range(n - k):\n",
    "        queue.append(queue.popleft())\n",
    "    \n",
    "print(queue)"
   ]
  },
  {
   "cell_type": "markdown",
   "id": "a84e59bf",
   "metadata": {},
   "source": [
    "#### Explicación de mi solución\n",
    "\n",
    "Para traer los últimos k elementos al inicio de la cola, utilizo una estrategia de rotación. Primero verifico que k sea válido. Luego calculo cuántos elementos debo mover: n - k (todos los elementos excepto los últimos k). Usando un ciclo, tomo cada elemento del frente de la cola con popleft() y lo coloco al final con append(), repitiéndolo n - k veces. De esta forma, los últimos k elementos quedan automáticamente al inicio sin necesidad de usar estructuras auxiliares."
   ]
  },
  {
   "cell_type": "markdown",
   "id": "95e26a72",
   "metadata": {},
   "source": [
    "# Problema 4:\n",
    "Desarrollar un sistema para manejar tareas en una aplicación de productividad. Cada tarea se representa como una tupla (nombre_tarea, prioridad, tiempo_estimado), donde prioridad es un entero (1 = alta, 5 = baja) y tiempo_estimado es en minutos.\n",
    "\n",
    "Ejemplo de entrada/salida:\n",
    "Lista inicial: [('Escribir informe', 2, 30), ('Llamar cliente', 1, 15), ('Revisar emails', 4, 10)]\n",
    "\n",
    "Ordenar la lista en orden descendente en base a la prioridad, es decir dejar al inicio las de mayor prioridad."
   ]
  },
  {
   "cell_type": "code",
   "execution_count": 4,
   "id": "d1f55f97",
   "metadata": {},
   "outputs": [
    {
     "name": "stdout",
     "output_type": "stream",
     "text": [
      "Tareas ordenadas por prioridad:\n",
      "- Revisar emails: Prioridad 4, Tiempo estimado 10 minutos\n",
      "- Escribir informe: Prioridad 2, Tiempo estimado 30 minutos\n",
      "- Llamar cliente: Prioridad 1, Tiempo estimado 15 minutos\n"
     ]
    }
   ],
   "source": [
    "tareas = [\n",
    "    ('Escribir informe', 2, 30),\n",
    "    ('Llamar cliente', 1, 15),\n",
    "    ('Revisar emails', 4, 10)\n",
    "]\n",
    "\n",
    "tareas_ordenadas = sorted(tareas, key=lambda x: x[1], reverse=True)\n",
    "\n",
    "print(\"Tareas ordenadas por prioridad:\")\n",
    "for tarea in tareas_ordenadas:\n",
    "    print(f\"- {tarea[0]}: Prioridad {tarea[1]}, Tiempo estimado {tarea[2]} minutos\")"
   ]
  },
  {
   "cell_type": "markdown",
   "id": "965b8964",
   "metadata": {},
   "source": [
    "#### Explicación de mi solución\n",
    "\n",
    "Para ordenar las tareas por prioridad de mayor a menor, utilicé la función sorted() con una función lambda como criterio de ordenamiento. La expresión key=lambda x: x[1] indica que el ordenamiento se basará en el segundo elemento de cada tupla (la prioridad), y reverse=True invierte el orden para que las prioridades más altas (valores mayores) aparezcan primero. Finalmente, recorro la lista ordenada e imprimo cada tarea con su información formateada de manera legible."
   ]
  },
  {
   "cell_type": "markdown",
   "id": "3af89605",
   "metadata": {},
   "source": [
    "# Problema 5\n",
    "\n",
    "Simulador de Ventana Deslizante para Análisis de Datos\n",
    "\n",
    "Crear un analizador de datos en tiempo real para un sensor que genera lecturas numéricas. Cada lectura se representa como una tupla (timestamp, valor), donde timestamp es un entero (segundos desde el inicio) y valor es un número flotante.\n",
    "\n",
    "Ejemplo de entrada/salida:\n",
    "Lista de lecturas: [ (1, 10.5), (2, 12.0), (3, 11.2), (4, 13.5), (5, 14.0), (6, 15.1) ] (continúa hasta 10).\n",
    "\n",
    "Ordenar la lista en base a el valor en forma ascendente."
   ]
  },
  {
   "cell_type": "code",
   "execution_count": null,
   "id": "13712210",
   "metadata": {},
   "outputs": [],
   "source": [
    "lecturas = [\n",
    "    (1, 10.5),\n",
    "    (2, 12.0),\n",
    "    (3, 11.2),\n",
    "    (4, 13.5),\n",
    "    (5, 14.0),\n",
    "    (6, 15.1),\n",
    "    (7, 9.8),\n",
    "    (8, 11.7),\n",
    "    (9, 12.3),\n",
    "    (10, 13.0)\n",
    "]\n",
    "\n",
    "lecturas_ordenadas = sorted(lecturas, key=lambda x: x[1])\n",
    "\n",
    "print(\"Lecturas ordenadas por valor (ascendente):\")\n",
    "for lectura in lecturas_ordenadas:\n",
    "    print(f\"Timestamp: {lectura[0]}s, Valor: {lectura[1]}\")"
   ]
  },
  {
   "cell_type": "markdown",
   "id": "fc496d69",
   "metadata": {},
   "source": [
    "#### Explicación de mi solución\n",
    "\n",
    "Para ordenar las lecturas del sensor por valor de forma ascendente, utilicé la función sorted() con una función lambda como criterio. La expresión key=lambda x: x[1] especifica que el ordenamiento se debe hacer según el segundo elemento de cada tupla (el valor de la lectura). Como no incluyo reverse=True, el orden es ascendente por defecto, mostrando primero los valores más bajos. Finalmente, imprimo las lecturas ordenadas con formato legible mostrando el timestamp y su valor correspondiente."
   ]
  },
  {
   "cell_type": "markdown",
   "id": "4f0eeb9f",
   "metadata": {},
   "source": [
    "# Problema 6: \n",
    "Escribe una función llamada calcular_promedio que tome una lista de números como argumento y retorne el promedio de esos números."
   ]
  },
  {
   "cell_type": "code",
   "execution_count": 6,
   "id": "cdb7b40a",
   "metadata": {},
   "outputs": [
    {
     "name": "stdout",
     "output_type": "stream",
     "text": [
      "El promedio de [10, 20, 30, 40, 50] es: 30.0\n"
     ]
    }
   ],
   "source": [
    "def calcular_promedio(numeros):\n",
    "    if len(numeros) == 0:\n",
    "        return 0\n",
    "    \n",
    "    return sum(numeros) / len(numeros)\n",
    "\n",
    "lista = [10, 20, 30, 40, 50]\n",
    "promedio = calcular_promedio(lista)\n",
    "print(f\"El promedio de {lista} es: {promedio}\")"
   ]
  },
  {
   "cell_type": "markdown",
   "id": "ea033206",
   "metadata": {},
   "source": [
    "#### Explicación de mi solución\n",
    "\n",
    "Para calcular el promedio de una lista de números, creé la función calcular_promedio() que recibe una lista como parámetro. Primero verifico si la lista está vacía para evitar división por cero. Luego utilizo la función sum() para sumar todos los elementos de la lista y divido el resultado entre len(numeros) para obtener el promedio. Esta solución es simple y eficiente, aprovechando las funciones integradas de Python."
   ]
  },
  {
   "cell_type": "markdown",
   "id": "6d6f87f7",
   "metadata": {},
   "source": [
    "# Problema 7: \n",
    "Una función que calcule el factorial de un número, lo cual involucra un loop. Recuerden utilizar funciones"
   ]
  },
  {
   "cell_type": "code",
   "execution_count": null,
   "id": "2ffe92b3",
   "metadata": {},
   "outputs": [
    {
     "name": "stdout",
     "output_type": "stream",
     "text": [
      "El factorial de 5 es: 120\n"
     ]
    }
   ],
   "source": [
    "def calcular_factorial(n):\n",
    "    if n < 0:\n",
    "        return None\n",
    "    \n",
    "    if n == 0 or n == 1:\n",
    "        return 1\n",
    "    \n",
    "    factorial = 1\n",
    "    for i in range(2, n + 1):\n",
    "        factorial *= i\n",
    "    \n",
    "    return factorial\n",
    "\n",
    "numero = 5\n",
    "resultado = calcular_factorial(numero)\n",
    "print(f\"El factorial de {numero} es: {resultado}\")"
   ]
  },
  {
   "cell_type": "markdown",
   "id": "ae0a45c3",
   "metadata": {},
   "source": [
    "#### Explicación de mi solución\n",
    "\n",
    "Para calcular el factorial de un número usando un loop, creé la función calcular_factorial que recibe un número n. Primero verifico casos especiales: si n es negativo retorno None, y si es 0 o 1 retorno 1 directamente. Para el caso general, inicializo una variable factorial en 1 y uso un bucle for que recorre desde 2 hasta n, multiplicando cada número por el factorial acumulado. Esta solución iterativa es eficiente y evita problemas de recursión profunda."
   ]
  },
  {
   "cell_type": "markdown",
   "id": "3b13b6fd",
   "metadata": {},
   "source": [
    "# Problema 8: \n",
    "Una función que verifique si un número es par o impar."
   ]
  },
  {
   "cell_type": "code",
   "execution_count": null,
   "id": "be5d2f7c",
   "metadata": {},
   "outputs": [
    {
     "name": "stdout",
     "output_type": "stream",
     "text": [
      "8 es par\n",
      "¿7 es par? False\n",
      "¿10 es par? True\n"
     ]
    }
   ],
   "source": [
    "def es_par(numero):\n",
    "\n",
    "    return numero % 2 == 0\n",
    "\n",
    "num = 8\n",
    "if es_par(num):\n",
    "    print(f\"{num} es par\")\n",
    "else:\n",
    "    print(f\"{num} es impar\")\n",
    "\n",
    "print(f\"¿7 es par? {es_par(7)}\")\n",
    "print(f\"¿10 es par? {es_par(10)}\")"
   ]
  },
  {
   "cell_type": "markdown",
   "id": "d6c15ff6",
   "metadata": {},
   "source": [
    "#### Explicación de mi solución\n",
    "\n",
    "Para verificar si un número es par o impar, creé la función es_par() que utiliza el operador módulo (%). La expresión numero % 2 == 0 verifica si el residuo de dividir el número entre 2 es cero. Si el residuo es 0, el número es par y la función retorna True; de lo contrario, es impar y retorna False."
   ]
  },
  {
   "cell_type": "markdown",
   "id": "e7abbefc",
   "metadata": {},
   "source": [
    "# Problema 9: \n",
    "Una función que procese una lista, como encontrar el máximo."
   ]
  },
  {
   "cell_type": "code",
   "execution_count": 9,
   "id": "d06f04ad",
   "metadata": {},
   "outputs": [
    {
     "name": "stdout",
     "output_type": "stream",
     "text": [
      "El máximo de la lista [15, 42, 8, 23, 56, 4, 19] es: 56\n",
      "Usando max(): 56\n"
     ]
    }
   ],
   "source": [
    "def encontrar_maximo(lista):\n",
    "\n",
    "    if len(lista) == 0:\n",
    "        return None\n",
    "    \n",
    "    maximo = lista[0]\n",
    "    for numero in lista:\n",
    "        if numero > maximo:\n",
    "            maximo = numero\n",
    "    \n",
    "    return maximo\n",
    "\n",
    "numeros = [15, 42, 8, 23, 56, 4, 19]\n",
    "resultado = encontrar_maximo(numeros)\n",
    "print(f\"El máximo de la lista {numeros} es: {resultado}\")\n",
    "\n",
    "resultado_max = max(numeros)\n",
    "print(f\"Usando max(): {resultado_max}\")"
   ]
  },
  {
   "cell_type": "markdown",
   "id": "93afc5a4",
   "metadata": {},
   "source": [
    "#### Explicación de mi solución\n",
    "\n",
    "Para encontrar el máximo en una lista, creé la función encontrar_maximo() que recorre la lista comparando cada elemento. Primero verifico si la lista está vacía y retorno None en ese caso. Luego inicializo la variable maximo con el primer elemento de la lista y uso un bucle for para recorrer todos los números. Si encuentro un número mayor que el actual maximo, lo actualizo. Al finalizar el recorrido, maximo` contendrá el valor más grande de la lista. Alternativamente, Python tiene la función integrada max() que hace lo mismo de forma más directa."
   ]
  },
  {
   "cell_type": "markdown",
   "id": "4d14aa5b",
   "metadata": {},
   "source": [
    "# Problema 10: \n",
    "Escribe un programa que use un diccionario para almacenar información de estudiantes (por ejemplo, nombre como clave y una lista de calificaciones como valor). Incluye funciones para agregar un estudiante, calcular el promedio de calificaciones de un estudiante, y mostrar todos los estudiantes.\n",
    "Requisitos: Funciones: agregar_estudiante, calcular_promedio, mostrar_estudiantes.\n",
    "Diccionario: para almacenar datos.\n",
    "\n",
    "Si se desea consultar una serie de estudiantes mediante la funcion mostrar_estudiantes se podra realizar y al mismo tiempo mostrar el promedio de calificaciones de cada uno de los estudiantes solicitados."
   ]
  },
  {
   "cell_type": "code",
   "execution_count": 10,
   "id": "40f98303",
   "metadata": {},
   "outputs": [
    {
     "name": "stdout",
     "output_type": "stream",
     "text": [
      "Estudiante 'Juan Pérez' agregado correctamente.\n",
      "Estudiante 'María García' agregado correctamente.\n",
      "Estudiante 'Carlos López' agregado correctamente.\n",
      "\n",
      "--- Lista de Estudiantes ---\n",
      "Estudiante: Juan Pérez\n",
      "  Calificaciones: [85, 90, 78, 92]\n",
      "  Promedio: 86.25\n",
      "\n",
      "Estudiante: María García\n",
      "  Calificaciones: [95, 88, 91, 87]\n",
      "  Promedio: 90.25\n",
      "\n",
      "Estudiante: Carlos López\n",
      "  Calificaciones: [70, 75, 80, 72]\n",
      "  Promedio: 74.25\n",
      "\n",
      "El promedio de María García es: 90.25\n"
     ]
    }
   ],
   "source": [
    "estudiantes = {}\n",
    "\n",
    "def agregar_estudiante(nombre, calificaciones):\n",
    "\n",
    "    estudiantes[nombre] = calificaciones\n",
    "    print(f\"Estudiante '{nombre}' agregado correctamente.\")\n",
    "\n",
    "def calcular_promedio(nombre):\n",
    "\n",
    "    if nombre in estudiantes:\n",
    "        calificaciones = estudiantes[nombre]\n",
    "        if len(calificaciones) > 0:\n",
    "            promedio = sum(calificaciones) / len(calificaciones)\n",
    "            return promedio\n",
    "        return 0\n",
    "    else:\n",
    "        print(f\"Estudiante '{nombre}' no encontrado.\")\n",
    "        return None\n",
    "\n",
    "def mostrar_estudiantes():\n",
    "\n",
    "    if len(estudiantes) == 0:\n",
    "        print(\"No hay estudiantes registrados.\")\n",
    "        return\n",
    "    \n",
    "    print(\"\\n--- Lista de Estudiantes ---\")\n",
    "    for nombre, calificaciones in estudiantes.items():\n",
    "        promedio = calcular_promedio(nombre)\n",
    "        print(f\"Estudiante: {nombre}\")\n",
    "        print(f\"  Calificaciones: {calificaciones}\")\n",
    "        print(f\"  Promedio: {promedio:.2f}\\n\")\n",
    "\n",
    "agregar_estudiante(\"Juan Pérez\", [85, 90, 78, 92])\n",
    "agregar_estudiante(\"María García\", [95, 88, 91, 87])\n",
    "agregar_estudiante(\"Carlos López\", [70, 75, 80, 72])\n",
    "\n",
    "mostrar_estudiantes()\n",
    "\n",
    "nombre_buscar = \"María García\"\n",
    "promedio = calcular_promedio(nombre_buscar)\n",
    "if promedio is not None:\n",
    "    print(f\"El promedio de {nombre_buscar} es: {promedio:.2f}\")"
   ]
  },
  {
   "cell_type": "markdown",
   "id": "65b94857",
   "metadata": {},
   "source": [
    "#### Explicación de mi solución\n",
    "\n",
    "Para gestionar la información de estudiantes, utilicé un diccionario donde las claves son los nombres de los estudiantes y los valores son listas de calificaciones. Implementé tres funciones principales: agregar_estudiante() que inserta un nuevo estudiante en el diccionario, calcular_promedio() que busca al estudiante por nombre y calcula el promedio usando sum() y len(), y mostrar_estudiantes() que recorre el diccionario con .items() para mostrar cada estudiante junto con sus calificaciones y promedio calculado. Esta estructura permite un acceso eficiente a los datos mediante el uso de diccionarios."
   ]
  }
 ],
 "metadata": {
  "kernelspec": {
   "display_name": ".venv (3.12.5)",
   "language": "python",
   "name": "python3"
  },
  "language_info": {
   "codemirror_mode": {
    "name": "ipython",
    "version": 3
   },
   "file_extension": ".py",
   "mimetype": "text/x-python",
   "name": "python",
   "nbconvert_exporter": "python",
   "pygments_lexer": "ipython3",
   "version": "3.12.5"
  }
 },
 "nbformat": 4,
 "nbformat_minor": 5
}
