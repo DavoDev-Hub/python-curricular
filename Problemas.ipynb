{
 "cells": [
  {
   "cell_type": "markdown",
   "id": "3b8c1f44",
   "metadata": {},
   "source": [
    "# Problema 1\n",
    "\n",
    "Simulando un stack (pila)\n",
    "\n",
    "Revisar cuantas veces aparece el elemento n en la pila stack."
   ]
  },
  {
   "cell_type": "code",
   "execution_count": 3,
   "id": "88ad1dd5",
   "metadata": {},
   "outputs": [],
   "source": [
    "from collections import deque\n",
    "stack = deque([8, 3, 2, 10, 11, 4, 8, 20, 5, 2, 8])\n",
    "aux = deque()\n",
    "# Operaciones que podemos usar\n",
    "# push -> stack.append()\n",
    "# pop -> stack.pop()\n",
    "# peek -> stack[-1]\n",
    "# En lugar de isEmpty usaremos len(stack) == 0"
   ]
  },
  {
   "cell_type": "code",
   "execution_count": null,
   "id": "f447b7d1",
   "metadata": {},
   "outputs": [
    {
     "name": "stdout",
     "output_type": "stream",
     "text": [
      "El elemento 8 aparece 0 veces en la pila.\n",
      "El elemento 8 aparece 0 veces en la pila.\n"
     ]
    }
   ],
   "source": [
    "# Solución 1: Usando una pila auxiliar\n",
    "n = 8\n",
    "count = 0\n",
    "while len(stack) > 0:\n",
    "    if stack.pop() == n:\n",
    "        count += 1\n",
    "print(f\"El elemento {n} aparece {count} veces en la pila.\")\n",
    "\n",
    "# Solucion 2: List comprehension:\n",
    "count = sum(1 for x in stack if x == n)\n",
    "print(f\"El elemento {n} aparece {count} veces en la pila.\")"
   ]
  }
 ],
 "metadata": {
  "kernelspec": {
   "display_name": ".venv (3.12.5)",
   "language": "python",
   "name": "python3"
  },
  "language_info": {
   "codemirror_mode": {
    "name": "ipython",
    "version": 3
   },
   "file_extension": ".py",
   "mimetype": "text/x-python",
   "name": "python",
   "nbconvert_exporter": "python",
   "pygments_lexer": "ipython3",
   "version": "3.12.5"
  }
 },
 "nbformat": 4,
 "nbformat_minor": 5
}
