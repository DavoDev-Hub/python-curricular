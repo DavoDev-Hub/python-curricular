{
 "cells": [
  {
   "cell_type": "markdown",
   "id": "469fa38f",
   "metadata": {},
   "source": [
    "# Diccionarios\n",
    "Un diccionario en Python es una estructura de datos que almacena una colección de pares clave-valor. Los diccionarios son mutables, lo que significa que se pueden agregar, eliminar o modificar elementos después de su creación."
   ]
  },
  {
   "cell_type": "markdown",
   "id": "1ad226fe",
   "metadata": {},
   "source": [
    "### Características\n",
    "Los diccionarios en Python tienen las siguientes características:\n",
    "- Pares clave-valor: Los diccionarios almacenan pares de clave-valor, donde la clave es un valor único y el valor es el dato asociado a esa clave.\n",
    "- Claves únicas: Las claves en un diccionario deben ser únicas, lo que significa que no se pueden repetir.\n",
    "- Valores mutables: Los valores en un diccionario pueden ser de cualquier tipo de dato, incluyendo listas, tuplas, diccionarios, etc.\n",
    "- Acceso eficiente: Los diccionarios permiten un acceso eficiente a los valores mediante sus claves.\n",
    "\n",
    "### Crear un diccionario\n",
    "Puedes crear un diccionario en Python utilizando la sintaxis `{}` o la función `dict()`:\n",
    "mi_diccionario = {\"nombre\": \"Juan\", \"edad\": 30}\n",
    "mi_diccionario = dict(nombre=\"Juan\", edad=30)\n",
    "\n",
    "### Acceder a elementos\n",
    "mi_diccionario = {\"nombre\": \"Juan\", \"edad\": 30}\n",
    "print(mi_diccionario[\"nombre\"])  # \"Juan\"\n",
    "\n",
    "### Modificar elementos\n",
    "Puedes modificar los elementos de un diccionario asignando un nuevo valor a una clave existente:\n",
    "mi_diccionario = {\"nombre\": \"Juan\", \"edad\": 30}\n",
    "mi_diccionario[\"edad\"] = 31\n",
    "print(mi_diccionario)  # {\"nombre\": \"Juan\", \"edad\": 31}\n",
    "\n",
    "### Agregar elementos\n",
    "Puedes agregar nuevos elementos a un diccionario asignando un valor a una clave que no existe:\n",
    "mi_diccionario = {\"nombre\": \"Juan\", \"edad\": 30}\n",
    "mi_diccionario[\"pais\"] = \"España\"\n",
    "print(mi_diccionario)  # {\"nombre\": \"Juan\", \"edad\": 30, \"pais\": \"España\"}\n",
    "\n",
    "### Eliminar elementos\n",
    "Puedes eliminar elementos de un diccionario utilizando el método `pop()` o la sentencia `del`:\n",
    "mi_diccionario = {\"nombre\": \"Juan\", \"edad\": 30}\n",
    "del mi_diccionario[\"edad\"]\n",
    "print(mi_diccionario)  # {\"nombre\": \"Juan\"}\n",
    "\n",
    "### Métodos útiles\n",
    "Los diccionarios en Python tienen varios métodos útiles, como:\n",
    "- `keys()`: Devuelve una lista de claves del diccionario.\n",
    "- `values()`: Devuelve una lista de valores del diccionario.\n",
    "- `items()`: Devuelve una lista de pares clave-valor del diccionario.\n",
    "\n",
    "En resumen, los diccionarios en Python son una estructura de datos versátil y eficiente para almacenar y manipular datos en forma de pares clave-valor. \n"
   ]
  },
  {
   "cell_type": "markdown",
   "id": "d08b8fc2",
   "metadata": {},
   "source": [
    "## Diccionarios"
   ]
  },
  {
   "cell_type": "code",
   "execution_count": 14,
   "id": "96a2e9fe",
   "metadata": {},
   "outputs": [
    {
     "name": "stdout",
     "output_type": "stream",
     "text": [
      "FFD66F\n"
     ]
    },
    {
     "data": {
      "text/plain": [
       "dict"
      ]
     },
     "execution_count": 14,
     "metadata": {},
     "output_type": "execute_result"
    }
   ],
   "source": [
    "colores = {\n",
    "    'morado' : 'BB42F4',\n",
    "    'amarillo' : 'FFF17F',\n",
    "    'rojo' : 'D01818',\n",
    "    'rosa' : 'E82595',\n",
    "    'amarillo' : 'FFD66F',\n",
    "    'amarillo2' : 'FFD66F'\n",
    "}\n",
    "\n",
    "print(colores['amarillo'])\n",
    "type(colores)"
   ]
  },
  {
   "cell_type": "code",
   "execution_count": 15,
   "id": "da26e4e8",
   "metadata": {},
   "outputs": [
    {
     "name": "stdout",
     "output_type": "stream",
     "text": [
      "Es verdad\n"
     ]
    }
   ],
   "source": [
    "numeros = {\n",
    "    1 : 'uno',\n",
    "    2 : 'dos',\n",
    "    8 : 'ocho',\n",
    "    124: 'ciento veinticuatro',\n",
    "    True : 'Es verdad',\n",
    "    4.5 : 'cuatro punto cinco',\n",
    "}\n",
    "\n",
    "numeros[10] = 'diez'\n",
    "numeros[2] = 'veinte'\n",
    "print(numeros[True])\n",
    "# print(numeros)"
   ]
  },
  {
   "cell_type": "markdown",
   "id": "116e9740",
   "metadata": {},
   "source": [
    "### get"
   ]
  },
  {
   "cell_type": "code",
   "execution_count": 16,
   "id": "07c9d4fb",
   "metadata": {},
   "outputs": [
    {
     "name": "stdout",
     "output_type": "stream",
     "text": [
      "D01818\n",
      "D01818\n"
     ]
    }
   ],
   "source": [
    "color = {\n",
    "    'morado' : 'BB42F4',\n",
    "    'amarillo' : 'FFF17F',\n",
    "    'rojo' : 'D01818',\n",
    "    'rosa' : 'E82595',\n",
    "    'amarillo' : 'FFD66F',\n",
    "    'amarillo2' : 'FFD66F'\n",
    "}\n",
    "\n",
    "print(colores['rojo'])\n",
    "print(colores.get('rojo'))"
   ]
  },
  {
   "cell_type": "markdown",
   "id": "da2f46f3",
   "metadata": {},
   "source": [
    "### items"
   ]
  },
  {
   "cell_type": "code",
   "execution_count": 17,
   "id": "9cd4d229",
   "metadata": {},
   "outputs": [
    {
     "name": "stdout",
     "output_type": "stream",
     "text": [
      "morado\n",
      "amarillo\n",
      "rojo\n",
      "rosa\n",
      "amarillo2\n"
     ]
    }
   ],
   "source": [
    "colores = {\n",
    "    'morado' : 'BB42F4',\n",
    "    'amarillo' : 'FFF17F',\n",
    "    'rojo' : 'D01818',\n",
    "    'rosa' : 'E82595',\n",
    "    'amarillo' : 'FFD66F',\n",
    "    'amarillo2' : 'FFD66F'\n",
    "}\n",
    "\n",
    "for i in colores:\n",
    "    print(i)"
   ]
  },
  {
   "cell_type": "code",
   "execution_count": 18,
   "id": "32d8ec6a",
   "metadata": {},
   "outputs": [
    {
     "name": "stdout",
     "output_type": "stream",
     "text": [
      "dict_items([('morado', 'BB42F4'), ('amarillo', 'FFD66F'), ('rojo', 'D01818'), ('rosa', 'E82595'), ('amarillo2', 'FFD66F')])\n",
      "('morado', 'BB42F4')\n",
      "('amarillo', 'FFD66F')\n",
      "('rojo', 'D01818')\n",
      "('rosa', 'E82595')\n",
      "('amarillo2', 'FFD66F')\n"
     ]
    }
   ],
   "source": [
    "print(colores.items()) # lista de tuplas (llave, valor)\n",
    "\n",
    "for i in colores.items():\n",
    "    print(i)"
   ]
  },
  {
   "cell_type": "code",
   "execution_count": 19,
   "id": "519257ee",
   "metadata": {},
   "outputs": [
    {
     "name": "stdout",
     "output_type": "stream",
     "text": [
      "dict_keys(['morado', 'amarillo', 'rojo', 'rosa', 'amarillo2'])\n",
      "morado\n",
      "amarillo\n",
      "rojo\n",
      "rosa\n",
      "amarillo2\n"
     ]
    }
   ],
   "source": [
    "print(color.keys()) # una tupla con todas las llaves (claves) del diccionario\n",
    "\n",
    "for i in colores.keys():\n",
    "    print(i)"
   ]
  },
  {
   "cell_type": "markdown",
   "id": "9e10bde9",
   "metadata": {},
   "source": [
    "### values"
   ]
  },
  {
   "cell_type": "code",
   "execution_count": 20,
   "id": "f1a79a86",
   "metadata": {},
   "outputs": [
    {
     "name": "stdout",
     "output_type": "stream",
     "text": [
      "dict_values(['BB42F4', 'FFD66F', 'D01818', 'E82595', 'FFD66F'])\n",
      "BB42F4\n",
      "FFD66F\n",
      "D01818\n",
      "E82595\n",
      "FFD66F\n"
     ]
    }
   ],
   "source": [
    "print(colores.values()) # tupla con todos los valores del diccionario\n",
    "\n",
    "for i in colores.values():\n",
    "    print(i)"
   ]
  },
  {
   "cell_type": "markdown",
   "id": "ff7efae1",
   "metadata": {},
   "source": [
    "### pop"
   ]
  },
  {
   "cell_type": "code",
   "execution_count": 21,
   "id": "3835039d",
   "metadata": {},
   "outputs": [
    {
     "name": "stdout",
     "output_type": "stream",
     "text": [
      "{'morado': 'BB42F4', 'amarillo': 'FFD66F', 'rojo': 'D01818', 'rosa': 'E82595', 'amarillo2': 'FFD66F'}\n",
      "{'morado': 'BB42F4', 'amarillo': 'FFD66F', 'rojo': 'D01818', 'rosa': 'E82595'}\n"
     ]
    }
   ],
   "source": [
    "colores = {\n",
    "    'morado' : 'BB42F4',\n",
    "    'amarillo' : 'FFF17F',\n",
    "    'rojo' : 'D01818',\n",
    "    'rosa' : 'E82595',\n",
    "    'amarillo' : 'FFD66F',\n",
    "    'amarillo2' : 'FFD66F'\n",
    "}\n",
    "\n",
    "print(colores)\n",
    "colores.pop('amarillo2') \n",
    "print(colores)"
   ]
  },
  {
   "cell_type": "markdown",
   "id": "8f55f15b",
   "metadata": {},
   "source": [
    "### popitem"
   ]
  },
  {
   "cell_type": "code",
   "execution_count": 22,
   "id": "2eff4f89",
   "metadata": {},
   "outputs": [
    {
     "name": "stdout",
     "output_type": "stream",
     "text": [
      "{'morado': 'BB42F4', 'amarillo': 'FFD66F', 'rojo': 'D01818', 'rosa': 'E82595'}\n",
      "{'morado': 'BB42F4', 'amarillo': 'FFD66F', 'rojo': 'D01818'}\n"
     ]
    }
   ],
   "source": [
    "print(colores)\n",
    "colores.popitem()\n",
    "print(colores)\n"
   ]
  },
  {
   "cell_type": "code",
   "execution_count": 24,
   "id": "63e0e7c8",
   "metadata": {},
   "outputs": [
    {
     "name": "stdout",
     "output_type": "stream",
     "text": [
      "{'morado': 'BB42F4', 'amarillo': 'FFD66F', 'rojo': 'D01818', 'rosa': 'E82595', 'amarillo2': 'FFD66F'}\n",
      "{'morado': '5D02B3', 'amarillo': 'FFD66F', 'rojo': 'D01818', 'rosa': 'E82595', 'amarillo2': 'FFD66F', 'negro': '00000'}\n"
     ]
    }
   ],
   "source": [
    "colores = {\n",
    "    'morado' : 'BB42F4',\n",
    "    'amarillo' : 'FFF17F',\n",
    "    'rojo' : 'D01818',\n",
    "    'rosa' : 'E82595',\n",
    "    'amarillo' : 'FFD66F',\n",
    "    'amarillo2' : 'FFD66F'\n",
    "}\n",
    "\n",
    "print(colores)\n",
    "colores.update({'negro': '00000'})\n",
    "colores.update({'morado': '5D02B3'})\n",
    "print(colores)"
   ]
  },
  {
   "cell_type": "markdown",
   "id": "5d14ebd4",
   "metadata": {},
   "source": [
    "### clear"
   ]
  },
  {
   "cell_type": "code",
   "execution_count": 25,
   "id": "19190ee0",
   "metadata": {},
   "outputs": [
    {
     "name": "stdout",
     "output_type": "stream",
     "text": [
      "{'morado': 'BB42F4', 'amarillo': 'FFD66F', 'rojo': 'D01818', 'rosa': 'E82595', 'amarillo2': 'FFD66F'}\n",
      "{}\n"
     ]
    }
   ],
   "source": [
    "colores = {\n",
    "    'morado' : 'BB42F4',\n",
    "    'amarillo' : 'FFF17F',\n",
    "    'rojo' : 'D01818',\n",
    "    'rosa' : 'E82595',\n",
    "    'amarillo' : 'FFD66F',\n",
    "    'amarillo2' : 'FFD66F' \n",
    "}\n",
    "\n",
    "print(colores)\n",
    "colores.clear()\n",
    "print(colores)"
   ]
  },
  {
   "cell_type": "markdown",
   "id": "1d00fa7c",
   "metadata": {},
   "source": [
    "### copy\n"
   ]
  },
  {
   "cell_type": "code",
   "execution_count": 26,
   "id": "d55100e8",
   "metadata": {},
   "outputs": [
    {
     "name": "stdout",
     "output_type": "stream",
     "text": [
      "{'morado': 'BB42F4', 'amarillo': 'FFD66F', 'rojo': 'D01818', 'rosa': 'E82595', 'amarillo2': 'FFD66F'}\n",
      "{'morado': 'BB42F4', 'amarillo': 'FFD66F', 'rojo': 'D01818', 'rosa': 'E82595', 'amarillo2': 'FFD66F', 'verde': '02B378'}\n"
     ]
    }
   ],
   "source": [
    "colores = {\n",
    "    'morado' : 'BB42F4',\n",
    "    'amarillo' : 'FFF17F',\n",
    "    'rojo' : 'D01818',\n",
    "    'rosa' : 'E82595',\n",
    "    'amarillo' : 'FFD66F',\n",
    "    'amarillo2' : 'FFD66F' \n",
    "}\n",
    "nuevos_colores = colores.copy()\n",
    "nuevos_colores.update({'verde': '02B378'})\n",
    "\n",
    "print(colores)\n",
    "print(nuevos_colores)"
   ]
  }
 ],
 "metadata": {
  "kernelspec": {
   "display_name": ".venv (3.12.5)",
   "language": "python",
   "name": "python3"
  },
  "language_info": {
   "codemirror_mode": {
    "name": "ipython",
    "version": 3
   },
   "file_extension": ".py",
   "mimetype": "text/x-python",
   "name": "python",
   "nbconvert_exporter": "python",
   "pygments_lexer": "ipython3",
   "version": "3.12.5"
  }
 },
 "nbformat": 4,
 "nbformat_minor": 5
}
