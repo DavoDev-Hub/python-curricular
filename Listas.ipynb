{
 "cells": [
  {
   "cell_type": "markdown",
   "id": "ad9d5983",
   "metadata": {},
   "source": [
    "# Estructura de datos"
   ]
  },
  {
   "cell_type": "markdown",
   "id": "001f838c",
   "metadata": {},
   "source": [
    "### Listas"
   ]
  },
  {
   "cell_type": "code",
   "execution_count": null,
   "id": "576e6778",
   "metadata": {},
   "outputs": [
    {
     "name": "stdout",
     "output_type": "stream",
     "text": [
      "sushi\n"
     ]
    }
   ],
   "source": [
    "comida = [\"tacos\", \"pizza\", \"chilaquiles\", \"enchiladas\", \"sushi\", \"hot-dogs\", \"hot-cakes\"]\n",
    "# posicion:  0        1           2             3           4          5           6\n",
    "print(comida[4])"
   ]
  },
  {
   "cell_type": "code",
   "execution_count": null,
   "id": "843b1bb4",
   "metadata": {},
   "outputs": [
    {
     "name": "stdout",
     "output_type": "stream",
     "text": [
      "['hot-cakes', 'hot-dogs', 'sushi', 'enchiladas', 'chilaquiles', 'pizza', 'tacos']\n"
     ]
    }
   ],
   "source": [
    "comida = [\"tacos\", \"pizza\", \"chilaquiles\", \"enchiladas\", \"sushi\", \"hot-dogs\", \"hot-cakes\"]\n",
    "# posicion:  0        1           2             3           4          5           6\n",
    "# inicio : tope : paso \n",
    "print(comida[-1::-1])"
   ]
  },
  {
   "cell_type": "code",
   "execution_count": 5,
   "id": "6c20176c",
   "metadata": {},
   "outputs": [
    {
     "name": "stdout",
     "output_type": "stream",
     "text": [
      "['tacos', 'pizza', 'chilaquiles', 'burritos', 'sushi', 'hot-dogs', 'hot-cakes']\n"
     ]
    }
   ],
   "source": [
    "comida = [\"tacos\", \"pizza\", \"chilaquiles\", \"enchiladas\", \"sushi\", \"hot-dogs\", \"hot-cakes\"]\n",
    "# posicion:  0        1           2             3           4          5           6\n",
    " \n",
    "comida[3] = \"burritos\"\n",
    "print(comida)"
   ]
  },
  {
   "cell_type": "code",
   "execution_count": 9,
   "id": "292b6e61",
   "metadata": {},
   "outputs": [
    {
     "name": "stdout",
     "output_type": "stream",
     "text": [
      "['tacos', 'pizza', 'chilaquiles', 'enchiladas', 'sushi', 'hot-dogs', 'hot-cakes']\n",
      "['tacos', 'chilaquiles', 'sushi', 'hot-cakes']\n",
      "['pastel', 'pizza', 'sopa', 'enchiladas', 'torta', 'hot-dogs', 'picadillo']\n"
     ]
    }
   ],
   "source": [
    "comida = [\"tacos\", \"pizza\", \"chilaquiles\", \"enchiladas\", \"sushi\", \"hot-dogs\", \"hot-cakes\"]\n",
    "# posicion:  0        1           2             3           4          5           6\n",
    "\n",
    "print(comida)\n",
    "print(comida[::2])\n",
    "comida[::2] = [\"pastel\", \"sopa\", \"torta\", \"picadillo\"]\n",
    "print(comida)"
   ]
  },
  {
   "cell_type": "code",
   "execution_count": null,
   "id": "d02e3b92",
   "metadata": {},
   "outputs": [],
   "source": [
    "# comida = [\"tacos\", \"pizza\", \"chilaquiles\", \"enchiladas\", \"sushi\", \"hot-dogs\", \"hot-cakes\"]\n",
    "# # posicion:  0        1           2             3           4          5           6\n"
   ]
  },
  {
   "cell_type": "code",
   "execution_count": 34,
   "id": "92b16400",
   "metadata": {},
   "outputs": [
    {
     "name": "stdout",
     "output_type": "stream",
     "text": [
      "[3]\n"
     ]
    }
   ],
   "source": [
    "lista = [1,2,3]\n",
    "print(lista[-1:3])"
   ]
  },
  {
   "cell_type": "markdown",
   "id": "f7a1f9fd",
   "metadata": {},
   "source": [
    "# Método\n",
    "### Append"
   ]
  },
  {
   "cell_type": "markdown",
   "id": "a4d5b021",
   "metadata": {},
   "source": [
    "list.append(x)"
   ]
  },
  {
   "cell_type": "code",
   "execution_count": 2,
   "id": "20bfeb75",
   "metadata": {},
   "outputs": [
    {
     "name": "stdout",
     "output_type": "stream",
     "text": [
      "['Azul', 'rojo', 'verde', 'amarillo', 'rosa']\n"
     ]
    }
   ],
   "source": [
    "colores = [\"Azul\", \"rojo\", \"verde\", \"amarillo\"]\n",
    "colores.append(\"rosa\") # colores += [\"rosa\"]\n",
    "print(colores)"
   ]
  },
  {
   "cell_type": "code",
   "execution_count": 3,
   "id": "3dd9efb8",
   "metadata": {},
   "outputs": [
    {
     "name": "stdout",
     "output_type": "stream",
     "text": [
      "['Azul', 'rojo', 'verde', 'amarillo', 'rosa']\n"
     ]
    }
   ],
   "source": [
    "colores = [\"Azul\", \"rojo\", \"verde\", \"amarillo\"]\n",
    "colores += [\"rosa\"]\n",
    "print(colores)"
   ]
  },
  {
   "cell_type": "markdown",
   "id": "3b9ec9f4",
   "metadata": {},
   "source": [
    "### Extend"
   ]
  },
  {
   "cell_type": "markdown",
   "id": "770a53e0",
   "metadata": {},
   "source": [
    "list.extend(iterable)"
   ]
  },
  {
   "cell_type": "markdown",
   "id": "0b74685f",
   "metadata": {},
   "source": [
    "Extiende la lista agregandole todos los items del iterable"
   ]
  },
  {
   "cell_type": "code",
   "execution_count": 5,
   "id": "a374b2d8",
   "metadata": {},
   "outputs": [
    {
     "name": "stdout",
     "output_type": "stream",
     "text": [
      "['Azul', 'rojo', 'verde', 'amarillo', 'rosa', 'morado', 'negro', 'naranja']\n",
      "['azul', 'rojo', 'verde', 'amarillo', 'rosa', 'morado', 'negro', 'naranja']\n"
     ]
    }
   ],
   "source": [
    "colores = [\"Azul\", \"rojo\", \"verde\", \"amarillo\"]\n",
    "colores.extend([\"rosa\", \"morado\", \"negro\", \"naranja\"])\n",
    "print(colores)\n",
    "\n",
    "colores = [\"azul\", \"rojo\", \"verde\", \"amarillo\"]\n",
    "colores += [\"rosa\", \"morado\", \"negro\", \"naranja\"]\n",
    "print(colores)"
   ]
  },
  {
   "cell_type": "markdown",
   "id": "834e5cc6",
   "metadata": {},
   "source": [
    "### insert"
   ]
  },
  {
   "cell_type": "markdown",
   "id": "e48d2242",
   "metadata": {},
   "source": [
    "list.insert(i, x)"
   ]
  },
  {
   "cell_type": "markdown",
   "id": "71152392",
   "metadata": {},
   "source": [
    "Inserta un ítem en una posición dada. El primer argumento es el índice del tanto a.insert(0, x) inserta al principio de la lista y a.insert(len(a))"
   ]
  },
  {
   "cell_type": "code",
   "execution_count": 12,
   "id": "5198401d",
   "metadata": {},
   "outputs": [
    {
     "name": "stdout",
     "output_type": "stream",
     "text": [
      "['Azul', 'morado', 'rojo', 'naranja', 'amarillo']\n",
      "['Azul', 'morado', 'rojo', 'naranja', 'amarillo']\n"
     ]
    }
   ],
   "source": [
    "colores = [\"Azul\", \"rojo\", \"amarillo\"]\n",
    "colores.insert(1, \"morado\")\n",
    "colores.insert(3, \"naranja\")\n",
    "print(colores)\n",
    "\n",
    "colores = [\"Azul\", \"rojo\", \"amarillo\"]\n",
    "colores[1:1] = [\"morado\"]\n",
    "colores[3:3] = [\"naranja\"]\n",
    "print(colores)"
   ]
  },
  {
   "cell_type": "markdown",
   "id": "8c46de41",
   "metadata": {},
   "source": [
    "### Remove"
   ]
  },
  {
   "cell_type": "markdown",
   "id": "40e65b20",
   "metadata": {},
   "source": [
    "list.remove(x)"
   ]
  },
  {
   "cell_type": "markdown",
   "id": "3cf5931a",
   "metadata": {},
   "source": [
    "Quita el primer ítem de la lista cuyo valor sea x. Lanza un ValueError si no existe ese elemento en la lista"
   ]
  },
  {
   "cell_type": "code",
   "execution_count": 13,
   "id": "0dcb3795",
   "metadata": {},
   "outputs": [
    {
     "name": "stdout",
     "output_type": "stream",
     "text": [
      "['azul', 'morado', 'naranja', 'amarillo']\n"
     ]
    }
   ],
   "source": [
    "colores = ['azul', 'morado', 'rojo', 'naranja', 'amarillo']\n",
    "colores.remove('rojo')\n",
    "print(colores)"
   ]
  },
  {
   "cell_type": "markdown",
   "id": "c04ca48a",
   "metadata": {},
   "source": [
    "### Count"
   ]
  },
  {
   "cell_type": "markdown",
   "id": "10b31ce0",
   "metadata": {},
   "source": [
    "list.count(x)"
   ]
  },
  {
   "cell_type": "markdown",
   "id": "925497c1",
   "metadata": {},
   "source": [
    "Retorna el número de veces que x aparece en la lista"
   ]
  },
  {
   "cell_type": "code",
   "execution_count": 2,
   "id": "1b3e1910",
   "metadata": {},
   "outputs": [
    {
     "name": "stdout",
     "output_type": "stream",
     "text": [
      "2\n"
     ]
    }
   ],
   "source": [
    "colores = ['rosa', 'rojo', 'naranja', 'amarillo', 'rojo', 'azul', 'morado']\n",
    "n = colores.count('rojo')\n",
    "print(n)"
   ]
  },
  {
   "cell_type": "markdown",
   "id": "b9fdf4dc",
   "metadata": {},
   "source": [
    "Podemos usar count y remove en un conjunto para eliminar todos los elementos con"
   ]
  },
  {
   "cell_type": "code",
   "execution_count": 3,
   "id": "ac91d048",
   "metadata": {},
   "outputs": [
    {
     "name": "stdout",
     "output_type": "stream",
     "text": [
      "['rosa', 'naranja', 'amarillo', 'azul', 'morado']\n"
     ]
    }
   ],
   "source": [
    "colores = [\"rosa\", \"rojo\", \"naranja\", \"amarillo\", \"rojo\", \"azul\", \"morado\", \"rojo\"]\n",
    "\n",
    "for i in range(colores.count(\"rojo\")):\n",
    "    colores.remove(\"rojo\")\n",
    "\n",
    "print(colores)"
   ]
  },
  {
   "cell_type": "markdown",
   "id": "e37d377d",
   "metadata": {},
   "source": [
    "A continuacion usamos el metodo pop para eliminar el ultimo elemento"
   ]
  },
  {
   "cell_type": "code",
   "execution_count": 4,
   "id": "a1816a4c",
   "metadata": {},
   "outputs": [
    {
     "name": "stdout",
     "output_type": "stream",
     "text": [
      "['rosa', 'rojo', 'naranja', 'amarillo', 'azul']\n"
     ]
    }
   ],
   "source": [
    "colores = ['rosa', 'rojo', 'naranja', 'amarillo', 'rojo', 'azul']\n",
    "\n",
    "# for i in range(-1, -len(colores)-1, -1):\n",
    "for i in range(len(colores)-1, -1, -1): # recorrer lista al revés\n",
    "    if colores[i] == \"rojo\":\n",
    "        colores.pop(i) # quitar a rojo\n",
    "        break # termina\n",
    "\n",
    "print(colores)"
   ]
  },
  {
   "cell_type": "markdown",
   "id": "11d62bd0",
   "metadata": {},
   "source": [
    "list.clear()"
   ]
  },
  {
   "cell_type": "code",
   "execution_count": 5,
   "id": "b3ee06ba",
   "metadata": {},
   "outputs": [
    {
     "name": "stdout",
     "output_type": "stream",
     "text": [
      "[]\n"
     ]
    }
   ],
   "source": [
    "colores = [\"rosa\", \"rojo\", \"naranja\", \"amarillo\", \"rojo\", \"azul\", \"morado\", \"rojo\"]\n",
    "colores.clear()\n",
    "print(colores)"
   ]
  }
 ],
 "metadata": {
  "kernelspec": {
   "display_name": ".venv (3.12.5)",
   "language": "python",
   "name": "python3"
  },
  "language_info": {
   "codemirror_mode": {
    "name": "ipython",
    "version": 3
   },
   "file_extension": ".py",
   "mimetype": "text/x-python",
   "name": "python",
   "nbconvert_exporter": "python",
   "pygments_lexer": "ipython3",
   "version": "3.12.5"
  }
 },
 "nbformat": 4,
 "nbformat_minor": 5
}
