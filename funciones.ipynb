{
 "cells": [
  {
   "cell_type": "markdown",
   "id": "00496a37",
   "metadata": {},
   "source": [
    "# Funcion sumatoria"
   ]
  },
  {
   "cell_type": "code",
   "execution_count": 5,
   "id": "dd84b1e6",
   "metadata": {},
   "outputs": [
    {
     "name": "stdout",
     "output_type": "stream",
     "text": [
      "5.5\n"
     ]
    }
   ],
   "source": [
    "def suma(a, b):\n",
    "    suma = a + b\n",
    "    return suma\n",
    "\n",
    "num1 = 3\n",
    "num2 = 2.5\n",
    "valor_regresado = suma(num1, num2)\n",
    "print(valor_regresado)"
   ]
  },
  {
   "cell_type": "code",
   "execution_count": 3,
   "id": "450bbaad",
   "metadata": {},
   "outputs": [
    {
     "name": "stdout",
     "output_type": "stream",
     "text": [
      "24.3\n"
     ]
    }
   ],
   "source": [
    "def sumatoria(*sumandos):\n",
    "    suma = 0\n",
    "    for n in sumandos:\n",
    "        suma += n\n",
    "    return suma\n",
    "\n",
    "x = sumatoria(10, 5, 4.3, 5)\n",
    "print(x)"
   ]
  },
  {
   "cell_type": "code",
   "execution_count": 7,
   "id": "4ca7b0a9",
   "metadata": {},
   "outputs": [
    {
     "name": "stdout",
     "output_type": "stream",
     "text": [
      "4.0\n",
      "7.0\n",
      "10.0\n"
     ]
    }
   ],
   "source": [
    "def dividir(dividiendo, divisor= 10):\n",
    "    return dividiendo / divisor\n",
    "\n",
    "print(dividir(40))\n",
    "print(dividir(35, 5))\n",
    "print(dividir(100))"
   ]
  },
  {
   "cell_type": "code",
   "execution_count": 8,
   "id": "f654a477",
   "metadata": {},
   "outputs": [
    {
     "name": "stdout",
     "output_type": "stream",
     "text": [
      "55\n"
     ]
    }
   ],
   "source": [
    "def fib(n):\n",
    "    # criterio de paro\n",
    "    if n == 1 or n == 2:\n",
    "        return 1\n",
    "    else:\n",
    "        return fib(n - 1) + fib(n - 2)\n",
    "\n",
    "print(fib(10))"
   ]
  }
 ],
 "metadata": {
  "kernelspec": {
   "display_name": ".venv (3.12.5)",
   "language": "python",
   "name": "python3"
  },
  "language_info": {
   "codemirror_mode": {
    "name": "ipython",
    "version": 3
   },
   "file_extension": ".py",
   "mimetype": "text/x-python",
   "name": "python",
   "nbconvert_exporter": "python",
   "pygments_lexer": "ipython3",
   "version": "3.12.5"
  }
 },
 "nbformat": 4,
 "nbformat_minor": 5
}
