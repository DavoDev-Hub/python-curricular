{
 "cells": [
  {
   "cell_type": "markdown",
   "id": "184825ec-8421-4739-a709-87c110d7e889",
   "metadata": {},
   "source": [
    "# Output"
   ]
  },
  {
   "cell_type": "code",
   "execution_count": 4,
   "id": "a6581a53-7a05-4d34-81f6-b545be3e8b88",
   "metadata": {},
   "outputs": [
    {
     "name": "stdout",
     "output_type": "stream",
     "text": [
      "Hola mundo!\n"
     ]
    }
   ],
   "source": [
    "print(\"Hola mundo!\")"
   ]
  },
  {
   "cell_type": "code",
   "execution_count": 3,
   "id": "770fd90e-9f73-42ab-9551-02c1a5989cf3",
   "metadata": {},
   "outputs": [
    {
     "name": "stdout",
     "output_type": "stream",
     "text": [
      "Hola!\n",
      "Soy un codigo de Python\n"
     ]
    }
   ],
   "source": [
    "print(\"Hola!\")\n",
    "print(\"Soy un codigo de Python\")"
   ]
  },
  {
   "cell_type": "code",
   "execution_count": 2,
   "id": "6ce8397d-2b3b-4588-8afa-abe1def33fea",
   "metadata": {},
   "outputs": [
    {
     "name": "stdout",
     "output_type": "stream",
     "text": [
      "Hola:  Soy un codigo de Python\n"
     ]
    }
   ],
   "source": [
    "print(\"Hola: \", end=\" \")\n",
    "print(\"Soy un codigo de Python\")"
   ]
  },
  {
   "cell_type": "code",
   "execution_count": 11,
   "id": "f776133e-d4fc-4283-bced-5d017a215976",
   "metadata": {},
   "outputs": [
    {
     "name": "stdout",
     "output_type": "stream",
     "text": [
      "Hola Ariel Montserrat de la Cruz Sandoval\n"
     ]
    }
   ],
   "source": [
    "nombre1=\"Ariel\"\n",
    "nombre2=\"Montserrat\"\n",
    "apellido1=\"de la Cruz\"\n",
    "apellido2=\"Sandoval\"\n",
    "\n",
    "nombre_completo = nombre1  + \" \" + nombre2 + \" \" + apellido1 + \" \" + apellido2\n",
    "print(\"Hola\", nombre_completo)"
   ]
  },
  {
   "cell_type": "markdown",
   "id": "d2b168ab-c636-40ef-ae96-13c011565a83",
   "metadata": {},
   "source": [
    "# Input"
   ]
  },
  {
   "cell_type": "code",
   "execution_count": 10,
   "id": "1ecbf935-26e2-454b-9df8-328947bee138",
   "metadata": {},
   "outputs": [
    {
     "name": "stdin",
     "output_type": "stream",
     "text": [
      " Davo\n"
     ]
    },
    {
     "name": "stdout",
     "output_type": "stream",
     "text": [
      "Ingresaste Davo\n"
     ]
    }
   ],
   "source": [
    "entrada = input()\n",
    "print(\"Ingresaste \"+entrada)"
   ]
  },
  {
   "cell_type": "markdown",
   "id": "9e3bbe32-2129-46c2-bc4d-45904a2f2afd",
   "metadata": {},
   "source": [
    "Escribe un código que reciba tu nombre como entrada, y que luego imprima un saludo con tu nombre como salida."
   ]
  },
  {
   "cell_type": "code",
   "execution_count": 13,
   "id": "1bcc579f-4405-4b30-af2a-d0062685f168",
   "metadata": {},
   "outputs": [
    {
     "name": "stdin",
     "output_type": "stream",
     "text": [
      "Por favor ingresa tu nombre:  Juan Pablo\n"
     ]
    },
    {
     "name": "stdout",
     "output_type": "stream",
     "text": [
      "Hola Juan Pablo\n"
     ]
    }
   ],
   "source": [
    "nombre = input(\"Por favor ingresa tu nombre: \")\n",
    "print(\"Hola \" + nombre) "
   ]
  },
  {
   "cell_type": "markdown",
   "id": "3ebf9fe1-a589-4118-8a54-1f6d6dfab0ac",
   "metadata": {},
   "source": [
    "# Variables y tipos de datos"
   ]
  },
  {
   "cell_type": "markdown",
   "id": "0141d485-fd3b-4f5b-8a07-4ba31609ba85",
   "metadata": {},
   "source": [
    "str"
   ]
  },
  {
   "cell_type": "code",
   "execution_count": 14,
   "id": "06fb9bec-7ef8-4389-ad66-9548b1eed208",
   "metadata": {},
   "outputs": [
    {
     "data": {
      "text/plain": [
       "str"
      ]
     },
     "execution_count": 14,
     "metadata": {},
     "output_type": "execute_result"
    }
   ],
   "source": [
    "cadena_de_texto = \"Soy un texto :D\"\n",
    "type(cadena_de_texto)"
   ]
  },
  {
   "cell_type": "code",
   "execution_count": 17,
   "id": "36010d59-bfb4-4860-b70d-bcb6e1fe54a3",
   "metadata": {},
   "outputs": [
    {
     "name": "stdout",
     "output_type": "stream",
     "text": [
      "linea 1\n",
      "linea 2\n",
      "linea 1\n",
      "linea 2 \n",
      "linea 3\n"
     ]
    }
   ],
   "source": [
    "doslineas = \"\"\"linea 1\n",
    "linea 2\"\"\"\n",
    "treslineas = '''linea 1\n",
    "linea 2 \n",
    "linea 3'''\n",
    "print(doslineas)\n",
    "print(treslineas)"
   ]
  },
  {
   "cell_type": "code",
   "execution_count": 18,
   "id": "ed10e482-eede-4025-9507-ba7ada0095ed",
   "metadata": {},
   "outputs": [
    {
     "name": "stdout",
     "output_type": "stream",
     "text": [
      " \n",
      "Cultivo una rosa blanca\n",
      "en junio con en enero\n",
      "para el amigo sincero\n",
      "que me das su mano franca.\n",
      "\n",
      "Y para el cruel que me arranca\n",
      "el corazón con que vivo;\n",
      "cardo ni ortiga cultivo;\n",
      "cultivo la rosa blanca.\n"
     ]
    },
    {
     "data": {
      "text/plain": [
       "str"
      ]
     },
     "execution_count": 18,
     "metadata": {},
     "output_type": "execute_result"
    }
   ],
   "source": [
    "poema = ''' \n",
    "Cultivo una rosa blanca\n",
    "en junio con en enero\n",
    "para el amigo sincero\n",
    "que me das su mano franca.\n",
    "\n",
    "Y para el cruel que me arranca\n",
    "el corazón con que vivo;\n",
    "cardo ni ortiga cultivo;\n",
    "cultivo la rosa blanca.'''\n",
    "print(poema)\n",
    "type(poema)"
   ]
  },
  {
   "cell_type": "markdown",
   "id": "c92e1cc5-9f3f-4e59-bbe7-1c4c6aa99bdb",
   "metadata": {},
   "source": [
    "# String"
   ]
  },
  {
   "cell_type": "markdown",
   "id": "28282bb7-c594-4eb7-b79a-bfad6c536f4a",
   "metadata": {},
   "source": [
    "AL usar la funcion input:"
   ]
  },
  {
   "cell_type": "code",
   "execution_count": 19,
   "id": "fb0573a6-5693-488f-add5-af0e94485ec9",
   "metadata": {},
   "outputs": [
    {
     "name": "stdin",
     "output_type": "stream",
     "text": [
      " 1\n"
     ]
    },
    {
     "data": {
      "text/plain": [
       "'1'"
      ]
     },
     "execution_count": 19,
     "metadata": {},
     "output_type": "execute_result"
    }
   ],
   "source": [
    "input()"
   ]
  },
  {
   "cell_type": "markdown",
   "id": "f5fedc70-7928-4e03-a4ce-ae2ee4a26a8f",
   "metadata": {},
   "source": [
    "Obtenemos un dato de tipo str."
   ]
  },
  {
   "cell_type": "code",
   "execution_count": 20,
   "id": "95bfb605-e70e-4d84-a7d9-2a7fbf83c802",
   "metadata": {},
   "outputs": [
    {
     "name": "stdin",
     "output_type": "stream",
     "text": [
      " 2\n"
     ]
    },
    {
     "data": {
      "text/plain": [
       "str"
      ]
     },
     "execution_count": 20,
     "metadata": {},
     "output_type": "execute_result"
    }
   ],
   "source": [
    "valor_de_entrada = input()\n",
    "type(valor_de_entrada)"
   ]
  },
  {
   "cell_type": "markdown",
   "id": "4b02a28c-4b45-4288-9e12-9008ae4261e4",
   "metadata": {},
   "source": [
    "# Operaciones y métodos"
   ]
  },
  {
   "cell_type": "code",
   "execution_count": 23,
   "id": "987d071d-d875-4f0d-99ce-e57bb9137bf5",
   "metadata": {},
   "outputs": [
    {
     "name": "stdout",
     "output_type": "stream",
     "text": [
      "ela\n"
     ]
    }
   ],
   "source": [
    "nombre = \"Pamela\"\n",
    "print(nombre[3:]) # me vas a escribir hasta la tercer letra hasta el ultimo"
   ]
  },
  {
   "cell_type": "code",
   "execution_count": 25,
   "id": "f311cad5-9a4f-48f3-96ba-84911d315430",
   "metadata": {},
   "outputs": [
    {
     "name": "stdout",
     "output_type": "stream",
     "text": [
      "Buenos días ¿Cómo estás?\n"
     ]
    }
   ],
   "source": [
    "saludo = \"Buenos días\"\n",
    "saludo += \" ¿Cómo estás?\"\n",
    "print(saludo)"
   ]
  },
  {
   "cell_type": "markdown",
   "id": "e9d6ef0d-0f68-4f97-b266-7a389a8fbece",
   "metadata": {},
   "source": [
    "# Lower"
   ]
  },
  {
   "cell_type": "code",
   "execution_count": 26,
   "id": "5a203191-6748-47b6-89e3-9f3309e4cce3",
   "metadata": {},
   "outputs": [
    {
     "name": "stdin",
     "output_type": "stream",
     "text": [
      " JUAN PABLO\n"
     ]
    },
    {
     "name": "stdout",
     "output_type": "stream",
     "text": [
      "juan pablo\n"
     ]
    }
   ],
   "source": [
    "str1 = input()\n",
    "str1 = str1.lower()\n",
    "print(str1)"
   ]
  },
  {
   "cell_type": "markdown",
   "id": "bf065240-3f18-4de9-86a1-ea8bcf2a8c9c",
   "metadata": {},
   "source": [
    "# Upper"
   ]
  },
  {
   "cell_type": "code",
   "execution_count": 29,
   "id": "93a62d03-8445-49c8-8c92-8d3e819641c8",
   "metadata": {},
   "outputs": [
    {
     "name": "stdin",
     "output_type": "stream",
     "text": [
      " for story\n"
     ]
    },
    {
     "name": "stdout",
     "output_type": "stream",
     "text": [
      "FOR STORY\n"
     ]
    }
   ],
   "source": [
    "str2 = input()\n",
    "str2 = str2.upper()\n",
    "print(str2)"
   ]
  },
  {
   "cell_type": "markdown",
   "id": "bcf57cbf-8b10-43b8-ab1d-492b5cbc19b4",
   "metadata": {},
   "source": [
    "# Title"
   ]
  },
  {
   "cell_type": "code",
   "execution_count": null,
   "id": "410869e1-fe6c-4381-b029-ac88b6c29cf3",
   "metadata": {},
   "outputs": [],
   "source": [
    "str3 = input()\n",
    "str3 = str.title()\n",
    "print(str3)"
   ]
  },
  {
   "cell_type": "code",
   "execution_count": 30,
   "id": "bbcb558d-619b-443f-a7e2-949669e73365",
   "metadata": {},
   "outputs": [
    {
     "name": "stdout",
     "output_type": "stream",
     "text": [
      "['tres', 'tristes', 'tigres', 'tragabam', 'trigo', 'en', 'un', 'trigal']\n"
     ]
    }
   ],
   "source": [
    "str4 = \"tres tristes tigres tragabam trigo en un trigal\"\n",
    "lista = str4.split()\n",
    "print(lista)"
   ]
  },
  {
   "cell_type": "code",
   "execution_count": 31,
   "id": "93d1ca4d-f551-4d64-ae50-ce1cd2b924be",
   "metadata": {},
   "outputs": [
    {
     "name": "stdout",
     "output_type": "stream",
     "text": [
      "['', 'res ', 'ris', 'es ', 'igeres ', 'ragaban ', 'rigo en un ', 'rigal']\n"
     ]
    }
   ],
   "source": [
    "str4 = \"tres tristes tigeres tragaban trigo en un trigal\"\n",
    "lista = str4.split(\"t\")\n",
    "print(lista)"
   ]
  },
  {
   "cell_type": "code",
   "execution_count": null,
   "id": "8c29afc8-02d6-4b8e-ab79-5db3dca87318",
   "metadata": {},
   "outputs": [],
   "source": []
  }
 ],
 "metadata": {
  "kernelspec": {
   "display_name": "Python 3 (ipykernel)",
   "language": "python",
   "name": "python3"
  },
  "language_info": {
   "codemirror_mode": {
    "name": "ipython",
    "version": 3
   },
   "file_extension": ".py",
   "mimetype": "text/x-python",
   "name": "python",
   "nbconvert_exporter": "python",
   "pygments_lexer": "ipython3",
   "version": "3.11.2"
  }
 },
 "nbformat": 4,
 "nbformat_minor": 5
}
