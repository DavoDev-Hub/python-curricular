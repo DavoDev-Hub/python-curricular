{
 "cells": [
  {
   "cell_type": "markdown",
   "id": "b60b8460",
   "metadata": {},
   "source": [
    "# List Comprehension\n",
    "La list comprehension es una forma conscisa y eficiente de crear listas en python. Permite crear una lista nueva a partir de una secuencia existente, aplicando una transformación o filtro a cada elemento."
   ]
  },
  {
   "cell_type": "markdown",
   "id": "4a40277c",
   "metadata": {},
   "source": [
    "## Sintaxis\n",
    "La sintaxis básica de una list comprehension es:\n",
    "[nueva_lista = [expresion for elemento in secuencia]]\n",
    "\n",
    "Donde:\n",
    "- *nueva_lista* es la lista que se crea\n",
    "- *expresion* es la operación que se aplica a cada elemento de la secuencia\n",
    "- *elemento* es la variable que representa cada elemento de la secuencia\n",
    "- *secuencia* es la lista o secuencia de la que se parte"
   ]
  },
  {
   "cell_type": "code",
   "execution_count": 1,
   "id": "468f065b",
   "metadata": {},
   "outputs": [
    {
     "name": "stdout",
     "output_type": "stream",
     "text": [
      "[1, 4, 9, 16, 25]\n",
      "[2, 4, 6]\n",
      "['HOLA', 'MUNDO', 'PYTHON']\n"
     ]
    }
   ],
   "source": [
    "#Ejemplos\n",
    "\n",
    "# 1. Crear una lista de números al cuadrado\n",
    "numeros = [1,2,3,4,5]\n",
    "cuadrados = [x**2 for x in numeros]\n",
    "print(cuadrados) #[1,4,9,16,25]\n",
    "\n",
    "# 2. Crear una lista de números pares:\n",
    "numeros = [1,2,3,4,5,6]\n",
    "pares = [x for x in numeros if x % 2 == 0]\n",
    "print(pares) # [2,4,6]\n",
    "\n",
    "# 3. Crear una lista de strings en mayúsculas:\n",
    "palabras = [\"hola\", \"mundo\", \"python\"]\n",
    "mayusculas = [palabra.upper() for palabra in palabras]\n",
    "print(mayusculas) #[\"HOLA\", \"MUNDO\", \"PYTHON\"]"
   ]
  },
  {
   "cell_type": "markdown",
   "id": "d3acafb7",
   "metadata": {},
   "source": [
    "### Ventajas"
   ]
  },
  {
   "cell_type": "markdown",
   "id": "1230e31a",
   "metadata": {},
   "source": [
    "- Consición: La list comprehension es mas concisa que un bucle for tradicional\n",
    "- Eficiencia: La list comprehension es mas eficiente que un bucle for tradicional, ya que evita la sobrecarga de crear una lista vacia y agregar elementos uno a uno.\n",
    "- Legibilidad: La list comprehension puede ser mas legible que un bucle for tradicional, ya que la intencion del código es más clara.\n"
   ]
  },
  {
   "cell_type": "markdown",
   "id": "4b2d3bb6",
   "metadata": {},
   "source": [
    "# List Comprehension"
   ]
  },
  {
   "cell_type": "code",
   "execution_count": null,
   "id": "310a8f5f",
   "metadata": {},
   "outputs": [],
   "source": [
    "# lista de numeros pares del 2 al 20, inclusive\n",
    "\n",
    "# da?\n",
    "\n",
    "pares = [2, 4, 6, 8, 10, 12, 14, 16, 18, 20]\n",
    "print(pares)\n",
    "\n",
    "pares = []\n",
    "for numero in range(1, 21):\n",
    "    if numero % 2 == 0:\n",
    "        pares.append(numero)"
   ]
  },
  {
   "cell_type": "code",
   "execution_count": 2,
   "id": "2abe140b",
   "metadata": {},
   "outputs": [
    {
     "name": "stdout",
     "output_type": "stream",
     "text": [
      "[2, 4, 6, 8, 10, 12, 14, 16, 18, 20]\n",
      "[2, 4, 6, 8, 10, 12, 14, 16, 18, 20]\n"
     ]
    }
   ],
   "source": [
    "pares = [par for par in range(2, 22, 2)]\n",
    "print(pares)\n",
    "pares = [(i + 1)*2 for i in range(10)]\n",
    "print(pares)"
   ]
  },
  {
   "cell_type": "code",
   "execution_count": 7,
   "id": "ada46ee2",
   "metadata": {},
   "outputs": [
    {
     "name": "stdout",
     "output_type": "stream",
     "text": [
      "[1, 2, 3, 4, 5, 6]\n"
     ]
    }
   ],
   "source": [
    "# Leer una lista\n",
    "edades = [int(edad) for edad in input().split()]\n",
    "print(edades)"
   ]
  }
 ],
 "metadata": {
  "kernelspec": {
   "display_name": ".venv (3.12.5)",
   "language": "python",
   "name": "python3"
  },
  "language_info": {
   "codemirror_mode": {
    "name": "ipython",
    "version": 3
   },
   "file_extension": ".py",
   "mimetype": "text/x-python",
   "name": "python",
   "nbconvert_exporter": "python",
   "pygments_lexer": "ipython3",
   "version": "3.12.5"
  }
 },
 "nbformat": 4,
 "nbformat_minor": 5
}
