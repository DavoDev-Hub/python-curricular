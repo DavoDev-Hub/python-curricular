{
 "cells": [
  {
   "cell_type": "markdown",
   "id": "f941f1df",
   "metadata": {},
   "source": [
    "    1. Su nombre válido, hasta que lo ingreses. En este problema un nombre se considera válido \n",
    "    cuando solo contiene letras del abecedario y espacios enblanco, la primera letra en cada palabra es \n",
    "    mayúscula y las demás son minúsculas. (2 puntos)"
   ]
  },
  {
   "cell_type": "code",
   "execution_count": 11,
   "id": "7956b3b4",
   "metadata": {},
   "outputs": [
    {
     "name": "stdout",
     "output_type": "stream",
     "text": [
      "El nombre es:  JUAN PABLO JIMENEZ MARTIN\n",
      "Nombre invalido. Intenta de nuevo.\n",
      "El nombre es:  Juan Pablo Jimenez Martin\n",
      "Nombre valido\n",
      "El nombre es:  Juan Pablo Jimenez Martin\n",
      "Nombre valido\n"
     ]
    }
   ],
   "source": [
    "def es_nombre_valido(nombre):\n",
    "    if not nombre.replace(' ', '').isalpha():\n",
    "        return False\n",
    "    palabras = nombre.split()\n",
    "    for palabra in palabras:\n",
    "        if not (palabra[0].isupper() and palabra[1:].islower()):\n",
    "            return False\n",
    "    return True\n",
    "\n",
    "while True:\n",
    "    nombre = input('Ingresa un nombre valido: ')\n",
    "    print('El nombre es: ', nombre)\n",
    "    if es_nombre_valido(nombre):\n",
    "        print('Nombre valido')\n",
    "        break\n",
    "    else:\n",
    "        print('Nombre invalido. Intenta de nuevo.')"
   ]
  },
  {
   "cell_type": "markdown",
   "id": "53e9839b",
   "metadata": {},
   "source": [
    "    2. SU ID válido, hasta que lo ingreses. En este problema un ID se considera válido cuando solo contiene 6 digitos \n",
    "    (ejemplo: 123456) (1 puntos)\n"
   ]
  },
  {
   "cell_type": "code",
   "execution_count": 12,
   "id": "016ac793",
   "metadata": {},
   "outputs": [
    {
     "name": "stdout",
     "output_type": "stream",
     "text": [
      "Valido, Tu ID es: 280622\n"
     ]
    }
   ],
   "source": [
    "while True:\n",
    "    id_usuario = input(\"Ingresa tu ID (6 dígitos): \")\n",
    "    \n",
    "    if len(id_usuario) == 6 and id_usuario.isdigit():\n",
    "        print(f\"Valido, Tu ID es: {id_usuario}\")\n",
    "        break\n",
    "    else:\n",
    "        print(\"Invalido. Debe contener exactamente 6 dígitos. Intenta de nuevo.\")"
   ]
  },
  {
   "cell_type": "markdown",
   "id": "4cb420a7",
   "metadata": {},
   "source": [
    "    3. Un numero entero válido. En este problema un numero entero se considera válido cuando solo son digitos positivos sin decimales. (2 puntos)\n",
    "    Tiene que imprimir \n"
   ]
  },
  {
   "cell_type": "code",
   "execution_count": 18,
   "id": "8ed5e88e",
   "metadata": {},
   "outputs": [
    {
     "name": "stdout",
     "output_type": "stream",
     "text": [
      "1\n",
      "12\n",
      "123\n",
      "1234\n",
      "12345\n"
     ]
    }
   ],
   "source": [
    "while True:\n",
    "    entrada = input('Ingrese un numero positivo: ')\n",
    "    \n",
    "    if entrada.isdigit() and int(entrada) > 0:\n",
    "        n = int(entrada)\n",
    "        break\n",
    "    else:\n",
    "        print('Debe ingresar un numero entero positivo. Intenta de nuevo.')\n",
    "\n",
    "for i in range(1, n+1):\n",
    "    for j in range(1, i+1):\n",
    "        print(j, end=\"\")\n",
    "    print()"
   ]
  }
 ],
 "metadata": {
  "kernelspec": {
   "display_name": ".venv (3.12.5)",
   "language": "python",
   "name": "python3"
  },
  "language_info": {
   "codemirror_mode": {
    "name": "ipython",
    "version": 3
   },
   "file_extension": ".py",
   "mimetype": "text/x-python",
   "name": "python",
   "nbconvert_exporter": "python",
   "pygments_lexer": "ipython3",
   "version": "3.12.5"
  }
 },
 "nbformat": 4,
 "nbformat_minor": 5
}
