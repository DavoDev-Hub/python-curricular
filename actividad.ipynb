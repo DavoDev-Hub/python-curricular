{
 "cells": [
  {
   "cell_type": "markdown",
   "id": "9b15c950",
   "metadata": {},
   "source": [
    "## Ejercicio 1\n",
    "Escribe un código que te pida un nombre válido, hasta que lo ingreses.\n",
    "En este problema un nombre se considera válido cuando solo contiene letras del abecedario y espacios en blanco, \n",
    "la primera letra en cada palabra es mayúscula y las demás son minúsculas."
   ]
  },
  {
   "cell_type": "code",
   "execution_count": null,
   "id": "f04fb4e8",
   "metadata": {},
   "outputs": [
    {
     "name": "stdout",
     "output_type": "stream",
     "text": [
      "El nombre es:  hola\n",
      "Nombre inválido. Intenta de nuevo.\n",
      "El nombre es:  Hola\n",
      "¡Nombre válido!\n"
     ]
    }
   ],
   "source": [
    "def es_nombre_valido(nombre):\n",
    "    if not nombre.replace(' ', '').isalpha():\n",
    "        return False\n",
    "    palabras = nombre.split()\n",
    "    for palabra in palabras:\n",
    "        if not (palabra[0].isupper() and palabra[1:].islower()):\n",
    "            return False\n",
    "    return True\n",
    "\n",
    "while True:\n",
    "    nombre = input('Ingresa un nombre valido: ')\n",
    "    print('El nombre es: ', nombre)\n",
    "    if es_nombre_valido(nombre):\n",
    "        print('Nombre valido')\n",
    "        break\n",
    "    else:\n",
    "        print('Nombre invalido. Intenta de nuevo.')"
   ]
  },
  {
   "cell_type": "markdown",
   "id": "a40923ea",
   "metadata": {},
   "source": [
    "## Ejercicio 2\n",
    "Realizar dos códigos uno que devuelva la suma de dos números ingresados por el usuario. \n",
    "Sin embargo, el primero sume los números cuando todavía son tipo str, y el segundo código \n",
    "que los sume después de haberlos convertido a tipo int.  "
   ]
  },
  {
   "cell_type": "code",
   "execution_count": 2,
   "id": "36bc6aee",
   "metadata": {},
   "outputs": [
    {
     "name": "stdout",
     "output_type": "stream",
     "text": [
      "La suma es: 3\n"
     ]
    }
   ],
   "source": [
    "num1 = int(input('Ingrese el primer número: '))\n",
    "num2 = int(input('Ingrese el segundo número: '))\n",
    "print('La suma es:', num1 + num2)"
   ]
  },
  {
   "cell_type": "code",
   "execution_count": 3,
   "id": "3c381ead",
   "metadata": {},
   "outputs": [
    {
     "name": "stdout",
     "output_type": "stream",
     "text": [
      "La suma es: 34\n"
     ]
    }
   ],
   "source": [
    "num1 = input('Ingrese el primer número: ')\n",
    "num2 = input('Ingrese el segundo número: ')\n",
    "print('La suma es:', num1 + num2)"
   ]
  },
  {
   "cell_type": "markdown",
   "id": "29459d23",
   "metadata": {},
   "source": [
    "# Ejercicio 3\n",
    "Programa un código que reciba dos números y depués imprima si el primer número es menor, igual o mayor al segundo número"
   ]
  },
  {
   "cell_type": "code",
   "execution_count": null,
   "id": "c7eadd51",
   "metadata": {},
   "outputs": [
    {
     "name": "stdout",
     "output_type": "stream",
     "text": [
      "Primer numero:  5\n",
      "Segundo numero:  5\n",
      "Son iguales\n"
     ]
    }
   ],
   "source": [
    "num1 = int(input())\n",
    "num2 = int(input())\n",
    "print('Primer numero: ', num1)\n",
    "print('Segundo numero: ', num2)\n",
    "\n",
    "\n",
    "if num1 > num2:\n",
    "    print('El primer numero es mayor que el segundo')\n",
    "elif num1 == num2:\n",
    "    print('Son iguales')\n",
    "else:\n",
    "    print('El primer numero es menor que el segundo')"
   ]
  },
  {
   "cell_type": "markdown",
   "id": "593ff044",
   "metadata": {},
   "source": [
    "# Ejercicio 4\n"
   ]
  }
 ],
 "metadata": {
  "kernelspec": {
   "display_name": "Python 3",
   "language": "python",
   "name": "python3"
  },
  "language_info": {
   "codemirror_mode": {
    "name": "ipython",
    "version": 3
   },
   "file_extension": ".py",
   "mimetype": "text/x-python",
   "name": "python",
   "nbconvert_exporter": "python",
   "pygments_lexer": "ipython3",
   "version": "3.9.0"
  }
 },
 "nbformat": 4,
 "nbformat_minor": 5
}
