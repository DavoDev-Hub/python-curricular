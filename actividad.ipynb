{
 "cells": [
  {
   "cell_type": "markdown",
   "id": "2aa5f4ce",
   "metadata": {},
   "source": [
    "# ACTIVIDAD 1\n",
    "Juan Pablo Jiménez Martín"
   ]
  },
  {
   "cell_type": "markdown",
   "id": "9b15c950",
   "metadata": {},
   "source": [
    "## Ejercicio 1\n",
    "Escribe un código que te pida un nombre válido, hasta que lo ingreses.\n",
    "En este problema un nombre se considera válido cuando solo contiene letras del abecedario y espacios en blanco, \n",
    "la primera letra en cada palabra es mayúscula y las demás son minúsculas."
   ]
  },
  {
   "cell_type": "code",
   "execution_count": 1,
   "id": "f04fb4e8",
   "metadata": {},
   "outputs": [
    {
     "name": "stdout",
     "output_type": "stream",
     "text": [
      "El nombre es:  juan pablo\n",
      "Nombre invalido. Intenta de nuevo.\n",
      "El nombre es:  Juan Pablo\n",
      "Nombre valido\n"
     ]
    }
   ],
   "source": [
    "def es_nombre_valido(nombre):\n",
    "    if not nombre.replace(' ', '').isalpha():\n",
    "        return False\n",
    "    palabras = nombre.split()\n",
    "    for palabra in palabras:\n",
    "        if not (palabra[0].isupper() and palabra[1:].islower()):\n",
    "            return False\n",
    "    return True\n",
    "\n",
    "while True:\n",
    "    nombre = input('Ingresa un nombre valido: ')\n",
    "    print('El nombre es: ', nombre)\n",
    "    if es_nombre_valido(nombre):\n",
    "        print('Nombre valido')\n",
    "        break\n",
    "    else:\n",
    "        print('Nombre invalido. Intenta de nuevo.')"
   ]
  },
  {
   "cell_type": "markdown",
   "id": "a40923ea",
   "metadata": {},
   "source": [
    "## Ejercicio 2\n",
    "Realizar dos códigos uno que devuelva la suma de dos números ingresados por el usuario. \n",
    "Sin embargo, el primero sume los números cuando todavía son tipo str, y el segundo código \n",
    "que los sume después de haberlos convertido a tipo int.  "
   ]
  },
  {
   "cell_type": "code",
   "execution_count": 12,
   "id": "36bc6aee",
   "metadata": {},
   "outputs": [
    {
     "name": "stdout",
     "output_type": "stream",
     "text": [
      "Primer 3\n",
      "Segundo 3\n",
      "La suma es: 6\n"
     ]
    }
   ],
   "source": [
    "num1 = int(input('Ingrese el primer número: '))\n",
    "print('Primer', num1)\n",
    "num2 = int(input('Ingrese el segundo número: '))\n",
    "print('Segundo', num2)\n",
    "print('La suma es:', num1 + num2)"
   ]
  },
  {
   "cell_type": "code",
   "execution_count": 15,
   "id": "3c381ead",
   "metadata": {},
   "outputs": [
    {
     "name": "stdout",
     "output_type": "stream",
     "text": [
      "Primer 3\n",
      "Segundo 3\n",
      "La suma es: 33\n"
     ]
    }
   ],
   "source": [
    "num1 = input('Ingrese el primer número: ')\n",
    "print('Primer', num1)\n",
    "num2 = input('Ingrese el segundo número: ')\n",
    "print('Segundo', num2)\n",
    "print('La suma es:', num1 + num2)"
   ]
  },
  {
   "cell_type": "markdown",
   "id": "29459d23",
   "metadata": {},
   "source": [
    "# Ejercicio 3\n",
    "Programa un código que reciba dos números y depués imprima si el primer número es menor, igual o mayor al segundo número"
   ]
  },
  {
   "cell_type": "code",
   "execution_count": 17,
   "id": "c7eadd51",
   "metadata": {},
   "outputs": [
    {
     "name": "stdout",
     "output_type": "stream",
     "text": [
      "Primer numero:  4\n",
      "Segundo numero:  1\n",
      "El primer numero es mayor que el segundo\n"
     ]
    }
   ],
   "source": [
    "num1 = int(input())\n",
    "num2 = int(input())\n",
    "print('Primer numero: ', num1)\n",
    "print('Segundo numero: ', num2)\n",
    "\n",
    "\n",
    "if num1 > num2:\n",
    "    print('El primer numero es mayor que el segundo')\n",
    "elif num1 == num2:\n",
    "    print('Son iguales')\n",
    "else:\n",
    "    print('El primer numero es menor que el segundo')"
   ]
  },
  {
   "cell_type": "markdown",
   "id": "593ff044",
   "metadata": {},
   "source": [
    "# Ejercicio 4\n"
   ]
  },
  {
   "cell_type": "markdown",
   "id": "94743535",
   "metadata": {},
   "source": [
    "Dado un numero entero, determina si es par o impar"
   ]
  },
  {
   "cell_type": "code",
   "execution_count": 19,
   "id": "cabcf933",
   "metadata": {},
   "outputs": [
    {
     "name": "stdout",
     "output_type": "stream",
     "text": [
      "El 5, es impar\n"
     ]
    }
   ],
   "source": [
    "num1 = int(input())\n",
    "\n",
    "if num1%2 == 0:\n",
    "    print(f'El {num1}, es par')\n",
    "else:\n",
    "    print(f'El {num1}, es impar')"
   ]
  },
  {
   "cell_type": "markdown",
   "id": "d59f98a9",
   "metadata": {},
   "source": [
    "# Ejercicio 5\n",
    "Escribe un código que pregunte la fecha de tu cumpleaños (día y mes) y la fecha de hoy (día y mes). Si ambas fechas coinciden imprime \"Feliz Cumpleaños\", si no, imprime \"Feliz no Cumpleaños\""
   ]
  },
  {
   "cell_type": "code",
   "execution_count": 27,
   "id": "d514f7a5",
   "metadata": {},
   "outputs": [
    {
     "name": "stdout",
     "output_type": "stream",
     "text": [
      "Fecha de hoy 10 de septiembre\n",
      "Fecha de su cumpleaños 13 de enero\n",
      "Feliz no Cumpleaños\n"
     ]
    }
   ],
   "source": [
    "diaHoy = int(input('Ingrese el día de hoy'))\n",
    "mesHoy = input('Ingrese el mes de hoy en texto').lower()\n",
    "\n",
    "diaCum = int(input('Ingrese el día de su cumpleaños'))\n",
    "mesCum = input('Ingrese el mes de su cumpleaños en texto').lower()\n",
    "\n",
    "\n",
    "print(f'Fecha de hoy {diaHoy} de {mesHoy}')\n",
    "print(f'Fecha de su cumpleaños {diaCum} de {mesCum}')\n",
    "\n",
    "if diaHoy == diaHoy and mesHoy == mesCum:\n",
    "    print('Feliz Cumpleaños')\n",
    "else:\n",
    "    print('Feliz no Cumpleaños')"
   ]
  },
  {
   "cell_type": "markdown",
   "id": "04ccef2a",
   "metadata": {},
   "source": [
    "# Ejercicio 6\n",
    "Escribe un programa que reciba 3 numeros enteros. Determina si al realizar una operación aritmetica en los dos primeros números (esta operacion puede ser adicion, substracción o multiplicación) es posible obtener el tercer número"
   ]
  },
  {
   "cell_type": "code",
   "execution_count": null,
   "id": "9d630ea3",
   "metadata": {},
   "outputs": [
    {
     "name": "stdout",
     "output_type": "stream",
     "text": [
      "Primer Numero: 2\n",
      "Segundo Numero: 2\n",
      "Alcanzar: 4\n",
      "Hay 2 formas de llegar a 4 a partir de 2 y 2\n"
     ]
    }
   ],
   "source": [
    "def comprobar(num1, num2, target):\n",
    "    counter = 0\n",
    "    if (num1 + num2) == target: counter += 1\n",
    "    if (num1 - num2) == target: counter += 1\n",
    "    if (num2 - num1 ) == target: counter += 1\n",
    "    if (num1 * num2) == target: counter += 1\n",
    "    confirmar(counter, target)\n",
    "\n",
    "def confirmar(counter, target):\n",
    "\n",
    "    if counter > 0:\n",
    "        print(f'Hay {counter} formas de llegar a {target} a partir de {num1} y {num2}')\n",
    "    else:\n",
    "        print(f'No hay ninguna forma de llegar {target} a partir de {num1} y {num2}')\n",
    "\n",
    "num1 = int(input('Ingrese el primer numero'))\n",
    "num2 = int(input('Ingrese el segundo numero'))\n",
    "target = int(input('Ingrese el numero a alcanzar'))\n",
    "\n",
    "print(f'Primer Numero: {num1}')\n",
    "print(f'Segundo Numero: {num2}')\n",
    "print(f'Alcanzar: {target}')\n",
    "\n",
    "comprobar(num1, num2, target)"
   ]
  },
  {
   "cell_type": "markdown",
   "id": "8558c45e",
   "metadata": {},
   "source": [
    "# Ejercicio 7\n",
    "Escribe un código que pida un número hasta que introduzcas un número negativo. Al final, imprime la suma de todos los numeros introducidos (excepto el numero negativo del final)"
   ]
  },
  {
   "cell_type": "code",
   "execution_count": null,
   "id": "8cfb44d4",
   "metadata": {},
   "outputs": [
    {
     "name": "stdout",
     "output_type": "stream",
     "text": [
      "1\n",
      "2\n",
      "3\n",
      "4\n",
      "5\n",
      "-1\n",
      "15\n"
     ]
    }
   ],
   "source": [
    "sum = 0\n",
    "while True:\n",
    "    num = int(input('Ingresa un numero positivo'))\n",
    "    if num > 0:\n",
    "        print(num)\n",
    "        sum += num\n",
    "    else:\n",
    "        print(num)\n",
    "        break\n",
    "print('------')\n",
    "print(sum)"
   ]
  },
  {
   "cell_type": "markdown",
   "id": "58337c47",
   "metadata": {},
   "source": [
    "# Ejercicio 8\n"
   ]
  },
  {
   "cell_type": "markdown",
   "id": "b7717290",
   "metadata": {},
   "source": [
    "Escribe un código que pida un número entero. Después, imprime cada uno de los digitos de este número separados por comas"
   ]
  },
  {
   "cell_type": "code",
   "execution_count": 38,
   "id": "b54995f3",
   "metadata": {},
   "outputs": [
    {
     "name": "stdout",
     "output_type": "stream",
     "text": [
      "Numero ingresado:  12345\n",
      "Resultado:  5,4,3,2,1\n"
     ]
    }
   ],
   "source": [
    "numero = int(input('Ingrese un numero'))\n",
    "print('Numero ingresado: ', numero)\n",
    "cadena_numero = str(numero) \n",
    "resultado = \",\".join((cadena_numero)[::-1])\n",
    "# resultado = \",\".join(reversed(cadena_numero)) \n",
    "\n",
    "print('Resultado: ', resultado)"
   ]
  },
  {
   "cell_type": "markdown",
   "id": "3da61667",
   "metadata": {},
   "source": [
    "# Ejercicio 9\n",
    "Escribe un código que pida un número entero n, y luego imprima los primeros n elementos de la sucesión de Fibonacci"
   ]
  },
  {
   "cell_type": "code",
   "execution_count": 1,
   "id": "d5c1b077",
   "metadata": {},
   "outputs": [
    {
     "name": "stdout",
     "output_type": "stream",
     "text": [
      "[0, 1, 1, 2, 3, 5, 8, 13, 21]\n"
     ]
    }
   ],
   "source": [
    "n = int(input('Ingrese un numero'))\n",
    "fibo = [0, 1]\n",
    "for i in range (n-2):\n",
    "    fibo.append(fibo[-1] + fibo[-2])\n",
    "print(fibo)"
   ]
  },
  {
   "cell_type": "markdown",
   "id": "3e71d0d3",
   "metadata": {},
   "source": [
    "# Ejercicio 10\n",
    "Escribe un código que te pregunte un numero entero y a continuación escriba desde el numero 1 hasta el número que se preguntó en forma de escalera como se muestra en el ejemplo:"
   ]
  },
  {
   "cell_type": "code",
   "execution_count": 42,
   "id": "f5962133",
   "metadata": {},
   "outputs": [
    {
     "name": "stdout",
     "output_type": "stream",
     "text": [
      " \n",
      "1 \n",
      "12 \n",
      "123 \n"
     ]
    }
   ],
   "source": [
    "n = int(input('Ingrese un numero'))\n",
    "\n",
    "for i in range(0, n+1):\n",
    "    for j in range(1, i+1):\n",
    "        print(j, end=\"\")\n",
    "    print(\" \")"
   ]
  }
 ],
 "metadata": {
  "kernelspec": {
   "display_name": "Python 3",
   "language": "python",
   "name": "python3"
  },
  "language_info": {
   "codemirror_mode": {
    "name": "ipython",
    "version": 3
   },
   "file_extension": ".py",
   "mimetype": "text/x-python",
   "name": "python",
   "nbconvert_exporter": "python",
   "pygments_lexer": "ipython3",
   "version": "3.9.0"
  }
 },
 "nbformat": 4,
 "nbformat_minor": 5
}
