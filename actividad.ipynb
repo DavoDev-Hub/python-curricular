{
 "cells": [
  {
   "cell_type": "code",
   "execution_count": null,
   "id": "ffa46fca",
   "metadata": {},
   "outputs": [],
   "source": [
    "# Ejercicio 1\n",
    "# Escribe un código que te pida un nombre válido, hasta que lo ingreses.\n",
    "# En este problema un nombre se considera válido cuando solo contiene letras del abecedario y espacios en blanco, \n",
    "# la primera letra en cada palabra es mayúscula y las demás son minúsculas."
   ]
  },
  {
   "cell_type": "code",
   "execution_count": 5,
   "id": "f04fb4e8",
   "metadata": {},
   "outputs": [
    {
     "name": "stdout",
     "output_type": "stream",
     "text": [
      "El nombre es:  pedro lucio\n",
      "Nombre inválido. Intenta de nuevo.\n",
      "El nombre es:  \n",
      "Nombre inválido. Intenta de nuevo.\n",
      "El nombre es:  Davo\n",
      "¡Nombre válido!\n"
     ]
    }
   ],
   "source": [
    "def es_nombre_valido(nombre):\n",
    "    if not nombre.replace(' ', '').isalpha():\n",
    "        return False\n",
    "    palabras = nombre.split()\n",
    "    for palabra in palabras:\n",
    "        if not (palabra[0].isupper() and palabra[1:].islower()):\n",
    "            return False\n",
    "    return True\n",
    "\n",
    "while True:\n",
    "    nombre = input('Ingresa un nombre válido: ')\n",
    "    print('El nombre es: ', nombre)\n",
    "    if es_nombre_valido(nombre):\n",
    "        print('¡Nombre válido!')\n",
    "        break\n",
    "    else:\n",
    "        print('Nombre inválido. Intenta de nuevo.')"
   ]
  },
  {
   "cell_type": "code",
   "execution_count": 6,
   "id": "a40923ea",
   "metadata": {},
   "outputs": [],
   "source": [
    "# Ejercicio 2\n",
    "# Realizar dos códigos uno que devuelva la suma de dos números ingresados por el usuario. \n",
    "# Sin embargo, el primero sume los números cuando todavía son tipo str, y el segundo código \n",
    "# que los sume después de haberlos convertido a tipo int.  "
   ]
  }
 ],
 "metadata": {
  "kernelspec": {
   "display_name": "Python 3",
   "language": "python",
   "name": "python3"
  },
  "language_info": {
   "codemirror_mode": {
    "name": "ipython",
    "version": 3
   },
   "file_extension": ".py",
   "mimetype": "text/x-python",
   "name": "python",
   "nbconvert_exporter": "python",
   "pygments_lexer": "ipython3",
   "version": "3.9.0"
  }
 },
 "nbformat": 4,
 "nbformat_minor": 5
}
