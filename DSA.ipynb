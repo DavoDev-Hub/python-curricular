{
 "cells": [
  {
   "cell_type": "markdown",
   "id": "ad9d5983",
   "metadata": {},
   "source": [
    "# Estructura de datos"
   ]
  },
  {
   "cell_type": "markdown",
   "id": "001f838c",
   "metadata": {},
   "source": [
    "### Listas"
   ]
  },
  {
   "cell_type": "code",
   "execution_count": null,
   "id": "576e6778",
   "metadata": {},
   "outputs": [
    {
     "name": "stdout",
     "output_type": "stream",
     "text": [
      "sushi\n"
     ]
    }
   ],
   "source": [
    "comida = [\"tacos\", \"pizza\", \"chilaquiles\", \"enchiladas\", \"sushi\", \"hot-dogs\", \"hot-cakes\"]\n",
    "# posicion:  0        1           2             3           4          5           6\n",
    "print(comida[4])"
   ]
  },
  {
   "cell_type": "code",
   "execution_count": null,
   "id": "843b1bb4",
   "metadata": {},
   "outputs": [
    {
     "name": "stdout",
     "output_type": "stream",
     "text": [
      "['hot-cakes', 'hot-dogs', 'sushi', 'enchiladas', 'chilaquiles', 'pizza', 'tacos']\n"
     ]
    }
   ],
   "source": [
    "comida = [\"tacos\", \"pizza\", \"chilaquiles\", \"enchiladas\", \"sushi\", \"hot-dogs\", \"hot-cakes\"]\n",
    "# posicion:  0        1           2             3           4          5           6\n",
    "# inicio : tope : paso \n",
    "print(comida[-1::-1])"
   ]
  },
  {
   "cell_type": "code",
   "execution_count": 5,
   "id": "6c20176c",
   "metadata": {},
   "outputs": [
    {
     "name": "stdout",
     "output_type": "stream",
     "text": [
      "['tacos', 'pizza', 'chilaquiles', 'burritos', 'sushi', 'hot-dogs', 'hot-cakes']\n"
     ]
    }
   ],
   "source": [
    "comida = [\"tacos\", \"pizza\", \"chilaquiles\", \"enchiladas\", \"sushi\", \"hot-dogs\", \"hot-cakes\"]\n",
    "# posicion:  0        1           2             3           4          5           6\n",
    " \n",
    "comida[3] = \"burritos\"\n",
    "print(comida)"
   ]
  },
  {
   "cell_type": "code",
   "execution_count": 9,
   "id": "292b6e61",
   "metadata": {},
   "outputs": [
    {
     "name": "stdout",
     "output_type": "stream",
     "text": [
      "['tacos', 'pizza', 'chilaquiles', 'enchiladas', 'sushi', 'hot-dogs', 'hot-cakes']\n",
      "['tacos', 'chilaquiles', 'sushi', 'hot-cakes']\n",
      "['pastel', 'pizza', 'sopa', 'enchiladas', 'torta', 'hot-dogs', 'picadillo']\n"
     ]
    }
   ],
   "source": [
    "comida = [\"tacos\", \"pizza\", \"chilaquiles\", \"enchiladas\", \"sushi\", \"hot-dogs\", \"hot-cakes\"]\n",
    "# posicion:  0        1           2             3           4          5           6\n",
    "\n",
    "print(comida)\n",
    "print(comida[::2])\n",
    "comida[::2] = [\"pastel\", \"sopa\", \"torta\", \"picadillo\"]\n",
    "print(comida)"
   ]
  },
  {
   "cell_type": "code",
   "execution_count": null,
   "id": "d02e3b92",
   "metadata": {},
   "outputs": [],
   "source": [
    "# comida = [\"tacos\", \"pizza\", \"chilaquiles\", \"enchiladas\", \"sushi\", \"hot-dogs\", \"hot-cakes\"]\n",
    "# # posicion:  0        1           2             3           4          5           6\n"
   ]
  },
  {
   "cell_type": "code",
   "execution_count": 34,
   "id": "92b16400",
   "metadata": {},
   "outputs": [
    {
     "name": "stdout",
     "output_type": "stream",
     "text": [
      "[3]\n"
     ]
    }
   ],
   "source": [
    "lista = [1,2,3]\n",
    "print(lista[-1:3])"
   ]
  }
 ],
 "metadata": {
  "kernelspec": {
   "display_name": ".venv (3.12.5)",
   "language": "python",
   "name": "python3"
  },
  "language_info": {
   "codemirror_mode": {
    "name": "ipython",
    "version": 3
   },
   "file_extension": ".py",
   "mimetype": "text/x-python",
   "name": "python",
   "nbconvert_exporter": "python",
   "pygments_lexer": "ipython3",
   "version": "3.12.5"
  }
 },
 "nbformat": 4,
 "nbformat_minor": 5
}
