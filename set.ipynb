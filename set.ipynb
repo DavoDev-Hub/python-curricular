{
 "cells": [
  {
   "cell_type": "code",
   "execution_count": null,
   "id": "338b3c69",
   "metadata": {},
   "outputs": [],
   "source": [
    "mi_set = {1, 2, 3, 4, 5}\n",
    "mi_set.add(6)\n",
    "print(mi_set)"
   ]
  },
  {
   "cell_type": "markdown",
   "id": "15edefbb",
   "metadata": {},
   "source": [
    "### Ejemplos\n",
    "\n",
    "1. Crear un set y agregar elementos:\n"
   ]
  },
  {
   "cell_type": "code",
   "execution_count": null,
   "id": "b8baf0b0",
   "metadata": {},
   "outputs": [],
   "source": [
    "mis_set = {1, 2, 3}\n",
    "mis_set.add(4)\n",
    "print(mis_set) # {1, 2, 3, 4}"
   ]
  },
  {
   "cell_type": "markdown",
   "id": "034578cc",
   "metadata": {},
   "source": [
    "2. Realizar operaciones de conjunto: "
   ]
  },
  {
   "cell_type": "code",
   "execution_count": 1,
   "id": "c31c232f",
   "metadata": {},
   "outputs": [
    {
     "name": "stdout",
     "output_type": "stream",
     "text": [
      "{1, 2, 3, 4, 5}\n",
      "{3}\n",
      "{1, 2}\n"
     ]
    }
   ],
   "source": [
    "A = {1, 2, 3}\n",
    "B = {3, 4, 5}\n",
    "print( A | B )  # Unión: {1, 2, 3, 4, 5}\n",
    "print( A & B )  # Intersección: {3}\n",
    "print( A - B )  # Diferencia: {1, 2}"
   ]
  },
  {
   "cell_type": "markdown",
   "id": "9c3f01f2",
   "metadata": {},
   "source": [
    "### Ventajas"
   ]
  },
  {
   "cell_type": "markdown",
   "id": "91d956b6",
   "metadata": {},
   "source": [
    "### Set"
   ]
  },
  {
   "cell_type": "code",
   "execution_count": null,
   "id": "e1b4993c",
   "metadata": {},
   "outputs": [],
   "source": [
    "miSet = {1, 3, 5, 7, 9}\n",
    "type(miSet)  "
   ]
  },
  {
   "cell_type": "code",
   "execution_count": 2,
   "id": "d72799cf",
   "metadata": {},
   "outputs": [
    {
     "data": {
      "text/plain": [
       "5"
      ]
     },
     "execution_count": 2,
     "metadata": {},
     "output_type": "execute_result"
    }
   ],
   "source": [
    "miSet = {1, 3, 5, 7, 9}\n",
    "len(miSet)"
   ]
  },
  {
   "cell_type": "code",
   "execution_count": 3,
   "id": "a90b8594",
   "metadata": {},
   "outputs": [
    {
     "name": "stdout",
     "output_type": "stream",
     "text": [
      "True\n"
     ]
    }
   ],
   "source": [
    "miSet = {1, 3, 5, 7, 9}\n",
    "print(3 in miSet)  "
   ]
  },
  {
   "cell_type": "markdown",
   "id": "9a3ac13f",
   "metadata": {},
   "source": [
    "### Ejemplos"
   ]
  },
  {
   "cell_type": "code",
   "execution_count": null,
   "id": "514c1cd9",
   "metadata": {},
   "outputs": [
    {
     "name": "stdout",
     "output_type": "stream",
     "text": [
      "True\n"
     ]
    }
   ],
   "source": [
    "# 1. Verificar si un conjunto es un superconjunto de otro:\n",
    "A = {1, 2, 3, 4, 5}\n",
    "B = {1, 2 ,3}\n",
    "print(A.issuperset(B))  # True\n",
    "\n",
    "# 2. Verificar si un conjunto no es un superconjunto de otro:\n",
    "A = {1, 2, 3}\n",
    "B = {1, 2, 3, 4, 5}\n",
    "print(A.issuperset(B))  # False"
   ]
  },
  {
   "cell_type": "code",
   "execution_count": 6,
   "id": "78cadf83",
   "metadata": {},
   "outputs": [
    {
     "name": "stdout",
     "output_type": "stream",
     "text": [
      "{1, 2, 3, 4, 5, 6, 7, 8, 9, 10}\n",
      "{1, 3, 5, 7, 9}\n",
      "{2, 4, 6, 8, 10}\n",
      "True\n",
      "True\n",
      "False\n",
      "False\n"
     ]
    }
   ],
   "source": [
    "# issuperset\n",
    "naturales = set([i for i in range(1, 11)])  # {1, 2, 3, 4, 5, 6, 7, 8, 9, 10}\n",
    "print(naturales)\n",
    "impares = set([i for i in range(1,11,2)])\n",
    "print(impares)\n",
    "pares = set([i for i in range(2,11,2)])\n",
    "print(pares)\n",
    "\n",
    "print(naturales.issuperset(impares)) \n",
    "print(naturales.issuperset(pares))\n",
    "print(impares.issuperset(pares))\n",
    "print(pares.issuperset(naturales))"
   ]
  },
  {
   "cell_type": "code",
   "execution_count": 8,
   "id": "58e43d72",
   "metadata": {},
   "outputs": [
    {
     "name": "stdout",
     "output_type": "stream",
     "text": [
      "{33, 2, 3, 5, 7, 11, 43, 13, 17, 53, 23, 63}\n"
     ]
    }
   ],
   "source": [
    "# union\n",
    "primos = {2, 3, 5, 7, 11, 13, 17}\n",
    "tres = {3, 13, 23, 33, 43, 53, 63}\n",
    "\n",
    "nuevo_set = primos.union(tres)\n",
    "print(nuevo_set)  # {2, 3, 5, 7,"
   ]
  },
  {
   "cell_type": "code",
   "execution_count": 9,
   "id": "43980e71",
   "metadata": {},
   "outputs": [
    {
     "name": "stdout",
     "output_type": "stream",
     "text": [
      "{3, 13}\n"
     ]
    }
   ],
   "source": [
    "# intersection\n",
    "primos = {2, 3, 5, 7, 11, 13, 17}\n",
    "tres = {3, 13, 23, 33, 43, 53, 63}\n",
    "\n",
    "nuevo_set = primos.intersection(tres)\n",
    "print(nuevo_set)  # {3, 13}"
   ]
  },
  {
   "cell_type": "code",
   "execution_count": 10,
   "id": "c5289d0e",
   "metadata": {},
   "outputs": [
    {
     "name": "stdout",
     "output_type": "stream",
     "text": [
      "{2, 5, 7, 11, 17}\n",
      "{33, 43, 53, 23, 63}\n"
     ]
    }
   ],
   "source": [
    "# difference\n",
    "primos = {2, 3, 5, 7, 11, 13, 17}\n",
    "tres = {3, 13, 23, 33, 43, 53, 63}\n",
    "\n",
    "nuevo_set = primos.difference(tres)\n",
    "print(nuevo_set)  # {2, 5, 7, 11, 17}\n",
    "nuevo_set = tres.difference(primos)\n",
    "print(nuevo_set)  # {23, 33, 43, 53, 63}"
   ]
  },
  {
   "cell_type": "code",
   "execution_count": 11,
   "id": "79bf4126",
   "metadata": {},
   "outputs": [
    {
     "name": "stdout",
     "output_type": "stream",
     "text": [
      "{2, 5, 7, 11, 17}\n",
      "{33, 43, 53, 23, 63}\n"
     ]
    }
   ],
   "source": [
    "# symmetric_difference\n",
    "primos = {2, 3, 5, 7, 11, 13, 17}\n",
    "tres = {3, 13, 23, 33, 43, 53, 63}\n",
    "\n",
    "nuevo_set = primos.difference(tres)\n",
    "print(nuevo_set)  # {2, 5, 7, 11, 17}\n",
    "nuevo_set = tres.difference(primos)\n",
    "print(nuevo_set)  # {23, 33, 43, 53, 63}"
   ]
  }
 ],
 "metadata": {
  "kernelspec": {
   "display_name": ".venv (3.12.5)",
   "language": "python",
   "name": "python3"
  },
  "language_info": {
   "codemirror_mode": {
    "name": "ipython",
    "version": 3
   },
   "file_extension": ".py",
   "mimetype": "text/x-python",
   "name": "python",
   "nbconvert_exporter": "python",
   "pygments_lexer": "ipython3",
   "version": "3.12.5"
  }
 },
 "nbformat": 4,
 "nbformat_minor": 5
}
